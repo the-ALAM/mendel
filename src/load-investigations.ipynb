{
 "cells": [
  {
   "cell_type": "code",
   "execution_count": 1,
   "metadata": {},
   "outputs": [],
   "source": [
    "import os\n",
    "import psycopg2\n",
    "import pandas as pd\n",
    "from dotenv import load_dotenv\n",
    "from psycopg2 import sql\n",
    "# from sqlalchemy import create_engine"
   ]
  },
  {
   "cell_type": "code",
   "execution_count": 2,
   "metadata": {},
   "outputs": [],
   "source": [
    "\n",
    "load_dotenv()\n",
    "\n",
    "host=os.getenv('POSTGRES_HOST')\n",
    "port=os.getenv('POSTGRES_PORT')\n",
    "database=os.getenv('POSTGRES_DB')\n",
    "user=os.getenv('POSTGRES_USER')\n",
    "password=os.getenv('POSTGRES_PASSWORD')\n",
    "sslmode=os.getenv('POSTGRES_SSLMODE')\n"
   ]
  },
  {
   "cell_type": "code",
   "execution_count": null,
   "metadata": {},
   "outputs": [],
   "source": [
    "\n",
    "# alchemyEngine = create_engine(f'postgresql+psycopg2://{user}:{password}@{host}:{port}/{database}?{sslmode}')\n",
    "# dbConnection = alchemyEngine.connect()\n"
   ]
  },
  {
   "cell_type": "code",
   "execution_count": null,
   "metadata": {},
   "outputs": [],
   "source": [
    "\n",
    "conn = psycopg2.connect(\n",
    "    user=user,\n",
    "    password=password,\n",
    "    host=host,\n",
    "    port=port,\n",
    "    database=database,\n",
    "    sslmode=sslmode\n",
    ")\n",
    "cursor = conn.cursor()\n",
    "cursor.execute('select 1;')\n",
    "\n",
    "conn.commit()\n",
    "cursor.close()\n",
    "conn.close()\n"
   ]
  },
  {
   "cell_type": "code",
   "execution_count": null,
   "metadata": {},
   "outputs": [],
   "source": [
    "\n",
    "load_dotenv()\n",
    "\n",
    "connection = psycopg2.connect(\n",
    "    host=os.getenv('POSTGRES_HOST'),\n",
    "    port=os.getenv('POSTGRES_PORT'),\n",
    "    database=os.getenv('POSTGRES_DB'),\n",
    "    user=os.getenv('POSTGRES_USER'),\n",
    "    password=os.getenv('POSTGRES_PASSWORD'),\n",
    "    sslmode=os.getenv('POSTGRES_SSLMODE')\n",
    ")\n",
    "\n",
    "cur = conn.cursor()\n"
   ]
  },
  {
   "cell_type": "code",
   "execution_count": null,
   "metadata": {},
   "outputs": [],
   "source": [
    "PATIENT_MEDICATIONS_QUERY = \"\"\" SELECT am.brand_name, mr.authored_on\n",
    "        FROM medication_requests mr\n",
    "        JOIN active_medications am ON mr.code = am.code\n",
    "        WHERE mr.patient_id = %s \"\"\"\n",
    "\n",
    "encounters_by_date_range_QUERY = \"\"\" SELECT e.id, e.patient_id, e.start, e.end, p.full_name\n",
    "        FROM encounters e\n",
    "        JOIN patients p ON e.patient_id = p.id\n",
    "        WHERE e.start >= %s AND e.end <= %s \"\"\"\n",
    "\n",
    "PATIENT_MEDICATIONS_QUERY = \"\"\" SELECT am.brand_name, mr.authored_on\n",
    "        FROM medication_requests mr\n",
    "        JOIN active_medications am ON mr.code = am.code\n",
    "        WHERE mr.patient_id = %s \"\"\""
   ]
  },
  {
   "cell_type": "code",
   "execution_count": null,
   "metadata": {},
   "outputs": [],
   "source": [
    "\n",
    "def get_patient_medications(patient_id):\n",
    "    query = sql.SQL(PATIENT_MEDICATIONS_QUERY)\n",
    "    cur.execute(query, (patient_id,))\n",
    "    return cur.fetchall()\n",
    "\n",
    "def get_encounters_by_date_range(start_date, end_date):\n",
    "    query = sql.SQL(encounters_by_date_range_QUERY)\n",
    "    cur.execute(query, (start_date, end_date))\n",
    "    return cur.fetchall()\n"
   ]
  },
  {
   "cell_type": "code",
   "execution_count": null,
   "metadata": {},
   "outputs": [],
   "source": [
    "PATIENT_ID = 'c16b9aea-2b5f-3866-22a1-01dea645c9e1'"
   ]
  },
  {
   "cell_type": "code",
   "execution_count": null,
   "metadata": {},
   "outputs": [],
   "source": [
    "patient_meds = get_patient_medications(PATIENT_ID)\n",
    "for med in patient_meds:\n",
    "    print(f\"Medication: {med[0]}, Prescribed on: {med[1]}\")\n",
    "\n",
    "encounters = get_encounters_by_date_range('2010-01-01', '2020-01-01')\n",
    "for encounter in encounters:\n",
    "    print(f\"Encounter ID: {encounter[0]}, Patient: {encounter[4]}, Start: {encounter[2]}, End: {encounter[3]}\")\n",
    "\n",
    "cur.close()\n",
    "conn.close()"
   ]
  }
 ],
 "metadata": {
  "kernelspec": {
   "display_name": "data",
   "language": "python",
   "name": "python3"
  },
  "language_info": {
   "codemirror_mode": {
    "name": "ipython",
    "version": 3
   },
   "file_extension": ".py",
   "mimetype": "text/x-python",
   "name": "python",
   "nbconvert_exporter": "python",
   "pygments_lexer": "ipython3",
   "version": "3.10.13"
  }
 },
 "nbformat": 4,
 "nbformat_minor": 2
}
