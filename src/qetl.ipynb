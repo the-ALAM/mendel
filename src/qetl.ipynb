{
 "cells": [
  {
   "cell_type": "code",
   "execution_count": 1,
   "metadata": {},
   "outputs": [],
   "source": [
    "import os\n",
    "import json\n",
    "import pandas as pd\n",
    "from datetime import datetime"
   ]
  },
  {
   "cell_type": "code",
   "execution_count": 10,
   "metadata": {},
   "outputs": [],
   "source": [
    "\n",
    "pd.set_option('display.max_rows', 50)\n",
    "pd.set_option('display.max_columns', 50)\n",
    "\n",
    "JSON_DIRECTORY = 'C:\\\\locr\\\\mendel\\\\data\\\\'\n"
   ]
  },
  {
   "cell_type": "code",
   "execution_count": 3,
   "metadata": {},
   "outputs": [],
   "source": [
    "\n",
    "def parse_date(date_string):\n",
    "    \"\"\"Parse an ISO 8601 formatted date string to a datetime object.\"\"\"\n",
    "    if date_string:\n",
    "        return datetime.fromisoformat(date_string.replace('Z', '+00:00'))\n",
    "    return None\n"
   ]
  },
  {
   "cell_type": "code",
   "execution_count": 4,
   "metadata": {},
   "outputs": [],
   "source": [
    "\n",
    "def extract_data_from_json(file_path):\n",
    "    \"\"\"Extract patient, medication, and encounter data from a FHIR JSON file.\"\"\"\n",
    "    with open(file_path, 'r', encoding='utf-8') as file:\n",
    "        data = json.load(file)\n",
    "\n",
    "    patient_info = {}\n",
    "    medication_requests = []\n",
    "    encounter_requests = []\n",
    "\n",
    "    for entry in data.get('entry', []):\n",
    "        resource = entry.get('resource', {})\n",
    "        resource_type = resource.get('resourceType')\n",
    "\n",
    "        if resource_type == 'Patient':\n",
    "            patient_info = {\n",
    "                'id': resource.get('id'),\n",
    "                'gender': resource.get('gender'),\n",
    "                'birthDate': parse_date(resource.get('birthDate')),\n",
    "                'name': resource.get('name', [{}])[0].get('text', '')\n",
    "            }\n",
    "\n",
    "        elif resource_type == 'MedicationRequest':\n",
    "            medication_requests.append({\n",
    "                'id': resource.get('id'),\n",
    "                'patient_id': resource.get('subject', {}).get('reference', '').split('/')[-1],\n",
    "                'status': resource.get('status'),\n",
    "                'intent': resource.get('intent'),\n",
    "                'medication': resource.get('medicationCodeableConcept', {}).get('text'),\n",
    "                'code': resource.get('medicationCodeableConcept', {}).get('coding', [{}])[0].get('code'),\n",
    "                'display_name': resource.get('medicationCodeableConcept', {}).get('coding', [{}])[0].get('display'),\n",
    "                'reason': resource.get('reasonReference', [{}])[0].get('display'),\n",
    "                'authoredOn': parse_date(resource.get('authoredOn'))\n",
    "            })\n",
    "\n",
    "        elif resource_type == 'Encounter':\n",
    "            encounter_requests.append({\n",
    "                'id': resource.get('id'),\n",
    "                'patient_id': resource.get('subject', {}).get('reference', '').split('/')[-1],\n",
    "                'status': resource.get('status'),\n",
    "                'class': resource.get('class', {}).get('code'),\n",
    "                'type': resource.get('type', [{}])[0].get('text', ''),\n",
    "                # 'display': resource.get('type', [{}])[0].get('coding', [{}])[0].get('display'),\n",
    "                'start': parse_date(resource.get('period', {}).get('start')),\n",
    "                'end': parse_date(resource.get('period', {}).get('end'))\n",
    "            })\n",
    "\n",
    "    return patient_info, medication_requests, encounter_requests\n"
   ]
  },
  {
   "cell_type": "code",
   "execution_count": 5,
   "metadata": {},
   "outputs": [],
   "source": [
    "\n",
    "def process_json_files(directory):\n",
    "    \"\"\"Process all JSON files in the given directory and extract patient, medication, and encounter data.\"\"\"\n",
    "    all_patients = []\n",
    "    all_medication_requests = []\n",
    "    all_encounter_requests = []\n",
    "\n",
    "    for filename in os.listdir(directory):\n",
    "        if filename.endswith('.json'):\n",
    "            file_path = os.path.join(directory, filename)\n",
    "            patient, medication_requests, encounters_requests = extract_data_from_json(file_path)\n",
    "\n",
    "            if patient:\n",
    "                all_patients.append(patient)\n",
    "            all_medication_requests.extend(medication_requests)\n",
    "            all_encounter_requests.extend(encounters_requests)\n",
    "\n",
    "    return all_patients, all_medication_requests, all_encounter_requests\n"
   ]
  },
  {
   "cell_type": "code",
   "execution_count": 6,
   "metadata": {},
   "outputs": [],
   "source": [
    "\n",
    "patients, medications, encounters = process_json_files(JSON_DIRECTORY)\n",
    "\n",
    "df_patients = pd.DataFrame(patients)\n",
    "df_medication_requests = pd.DataFrame(medications)\n",
    "df_encounters = pd.DataFrame(encounters)\n"
   ]
  },
  {
   "cell_type": "code",
   "execution_count": 12,
   "metadata": {},
   "outputs": [
    {
     "data": {
      "text/html": [
       "<div>\n",
       "<style scoped>\n",
       "    .dataframe tbody tr th:only-of-type {\n",
       "        vertical-align: middle;\n",
       "    }\n",
       "\n",
       "    .dataframe tbody tr th {\n",
       "        vertical-align: top;\n",
       "    }\n",
       "\n",
       "    .dataframe thead th {\n",
       "        text-align: right;\n",
       "    }\n",
       "</style>\n",
       "<table border=\"1\" class=\"dataframe\">\n",
       "  <thead>\n",
       "    <tr style=\"text-align: right;\">\n",
       "      <th></th>\n",
       "      <th>id</th>\n",
       "      <th>gender</th>\n",
       "      <th>birthDate</th>\n",
       "      <th>name</th>\n",
       "    </tr>\n",
       "  </thead>\n",
       "  <tbody>\n",
       "    <tr>\n",
       "      <th>0</th>\n",
       "      <td>c16b9aea-2b5f-3866-22a1-01dea645c9e1</td>\n",
       "      <td>male</td>\n",
       "      <td>1991-05-07</td>\n",
       "      <td></td>\n",
       "    </tr>\n",
       "    <tr>\n",
       "      <th>1</th>\n",
       "      <td>3a46995f-0d6d-db33-42b9-1582414dffef</td>\n",
       "      <td>male</td>\n",
       "      <td>2013-08-01</td>\n",
       "      <td></td>\n",
       "    </tr>\n",
       "    <tr>\n",
       "      <th>2</th>\n",
       "      <td>ad634079-c15f-8a99-31a5-f9427a1889a4</td>\n",
       "      <td>male</td>\n",
       "      <td>1981-05-01</td>\n",
       "      <td></td>\n",
       "    </tr>\n",
       "    <tr>\n",
       "      <th>3</th>\n",
       "      <td>b9c319c3-5a7d-69a7-ba09-368625f2bb88</td>\n",
       "      <td>male</td>\n",
       "      <td>2000-03-14</td>\n",
       "      <td></td>\n",
       "    </tr>\n",
       "  </tbody>\n",
       "</table>\n",
       "</div>"
      ],
      "text/plain": [
       "                                     id gender  birthDate name\n",
       "0  c16b9aea-2b5f-3866-22a1-01dea645c9e1   male 1991-05-07     \n",
       "1  3a46995f-0d6d-db33-42b9-1582414dffef   male 2013-08-01     \n",
       "2  ad634079-c15f-8a99-31a5-f9427a1889a4   male 1981-05-01     \n",
       "3  b9c319c3-5a7d-69a7-ba09-368625f2bb88   male 2000-03-14     "
      ]
     },
     "execution_count": 12,
     "metadata": {},
     "output_type": "execute_result"
    }
   ],
   "source": [
    "\n",
    "df_patients\n",
    "# df_medication_requests\n",
    "# df_encounters\n"
   ]
  },
  {
   "cell_type": "code",
   "execution_count": null,
   "metadata": {},
   "outputs": [],
   "source": [
    "\n",
    "# df_patients.to_csv('patients.csv', index=False)\n",
    "# df_medication_requests.to_csv('medication_requests.csv', index=False)\n",
    "# df_encounters.to_csv('encounters.csv', index=False)\n"
   ]
  }
 ],
 "metadata": {
  "kernelspec": {
   "display_name": "data",
   "language": "python",
   "name": "python3"
  },
  "language_info": {
   "codemirror_mode": {
    "name": "ipython",
    "version": 3
   },
   "file_extension": ".py",
   "mimetype": "text/x-python",
   "name": "python",
   "nbconvert_exporter": "python",
   "pygments_lexer": "ipython3",
   "version": "3.10.13"
  }
 },
 "nbformat": 4,
 "nbformat_minor": 2
}
