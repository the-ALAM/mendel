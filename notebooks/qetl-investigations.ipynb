{
 "cells": [
  {
   "cell_type": "markdown",
   "metadata": {},
   "source": [
    "# imports and setup"
   ]
  },
  {
   "cell_type": "code",
   "execution_count": 1,
   "metadata": {},
   "outputs": [
    {
     "name": "stderr",
     "output_type": "stream",
     "text": [
      "c:\\Users\\ALAM\\miniconda3\\envs\\data\\lib\\site-packages\\pandas\\core\\arrays\\masked.py:60: UserWarning: Pandas requires version '1.3.6' or newer of 'bottleneck' (version '1.3.5' currently installed).\n",
      "  from pandas.core import (\n"
     ]
    }
   ],
   "source": [
    "import os\n",
    "import json\n",
    "import requests\n",
    "import pandas as pd\n",
    "from datetime import datetime\n",
    "from ipywidgets import interact\n",
    "# from widgetsnbextension import interact"
   ]
  },
  {
   "cell_type": "code",
   "execution_count": 2,
   "metadata": {},
   "outputs": [],
   "source": [
    "\n",
    "pd.options.plotting.backend = \"plotly\"\n",
    "pd.set_option('display.max_rows', 50)\n",
    "pd.set_option('display.max_columns', 50)\n"
   ]
  },
  {
   "cell_type": "code",
   "execution_count": 7,
   "metadata": {},
   "outputs": [],
   "source": [
    "\n",
    "# PROJECT_DIRECTORY = os.getcwd()\n",
    "PROJECT_DIRECTORY = os.path.normpath(os.getcwd())\n",
    "# DATA_DIRECTORY = PROJECT_DIRECTORY + '\\\\data\\\\'\n",
    "DATA_DIRECTORY = os.path.normpath(os.getcwd() + os.sep + os.pardir + os.sep + 'data')\n",
    "# OUT_DIRECTORY = PROJECT_DIRECTORY + '\\\\out\\\\'\n",
    "OUT_DIRECTORY = os.path.normpath(os.getcwd() + os.sep  + os.pardir  + os.sep + 'out')\n"
   ]
  },
  {
   "cell_type": "code",
   "execution_count": 8,
   "metadata": {},
   "outputs": [
    {
     "name": "stdout",
     "output_type": "stream",
     "text": [
      "PROJECT_DIRECTORY c:\\locr\\mendel\\notebooks\n",
      "DATA_DIRECTORY c:\\locr\\mendel\\data\n",
      "OUT_DIRECTORY c:\\locr\\mendel\\out\n"
     ]
    }
   ],
   "source": [
    "print(\"PROJECT_DIRECTORY\", PROJECT_DIRECTORY)\n",
    "print(\"DATA_DIRECTORY\", DATA_DIRECTORY)\n",
    "print(\"OUT_DIRECTORY\", OUT_DIRECTORY)"
   ]
  },
  {
   "cell_type": "markdown",
   "metadata": {},
   "source": [
    "---"
   ]
  },
  {
   "cell_type": "markdown",
   "metadata": {},
   "source": [
    "# load & transform data"
   ]
  },
  {
   "cell_type": "code",
   "execution_count": 9,
   "metadata": {},
   "outputs": [],
   "source": [
    "\n",
    "def parse_date(date_string):\n",
    "    \"\"\"Parse an ISO 8601 formatted date string to a datetime object.\"\"\"\n",
    "    if date_string:\n",
    "        return datetime.fromisoformat(date_string.replace('Z', '+00:00'))\n",
    "    return None\n",
    "\n",
    "def format_date(date_string: str):\n",
    "    \"\"\"Parse an ISO 8601 formatted date string to a datetime object.\"\"\"\n",
    "    if date_string:\n",
    "        return (date_string[:4] + '-' + date_string[4:6] + '-' + date_string[6:])\n",
    "    return None\n"
   ]
  },
  {
   "cell_type": "code",
   "execution_count": 10,
   "metadata": {},
   "outputs": [],
   "source": [
    "\n",
    "def extract_data_from_json(file_path):\n",
    "    \"\"\"Extract patient, medication, and encounter data from a FHIR JSON file.\"\"\"\n",
    "    print(\"processing: \", file_path)\n",
    "    with open(file_path, 'r', encoding='utf-8') as file:\n",
    "        data = json.load(file)\n",
    "\n",
    "    patient_info = {}\n",
    "    medication_requests = []\n",
    "    encounter_requests = []\n",
    "\n",
    "    for entry in data.get('entry', []):\n",
    "        resource = entry.get('resource', {})\n",
    "        resource_type = resource.get('resourceType')\n",
    "\n",
    "        if resource_type == 'Patient':\n",
    "            patient_info = {\n",
    "                'id': resource.get('id'),\n",
    "                'gender': resource.get('gender'),\n",
    "                'birthDate': parse_date(resource.get('birthDate')),\n",
    "                'name': resource.get('name', [{}])[0].get('text', '')\n",
    "            }\n",
    "\n",
    "        elif resource_type == 'MedicationRequest':\n",
    "            medication_requests.append({\n",
    "                'id': resource.get('id'),\n",
    "                'patient_id': resource.get('subject', {}).get('reference', '').split('/')[-1],\n",
    "                'status': resource.get('status'),\n",
    "                'intent': resource.get('intent'),\n",
    "                'medication': resource.get('medicationCodeableConcept', {}).get('text'),\n",
    "                'code': resource.get('medicationCodeableConcept', {}).get('coding', [{}])[0].get('code'),\n",
    "                'display_name': resource.get('medicationCodeableConcept', {}).get('coding', [{}])[0].get('display'),\n",
    "                'reason': resource.get('reasonReference', [{}])[0].get('display'),\n",
    "                'authoredOn': parse_date(resource.get('authoredOn'))\n",
    "            })\n",
    "\n",
    "        elif resource_type == 'Encounter':\n",
    "            encounter_requests.append({\n",
    "                'id': resource.get('id'),\n",
    "                'patient_id': resource.get('subject', {}).get('reference', '').split('/')[-1],\n",
    "                'status': resource.get('status'),\n",
    "                'class': resource.get('class', {}).get('code'),\n",
    "                'type': resource.get('type', [{}])[0].get('text', ''),\n",
    "                # 'display': resource.get('type', [{}])[0].get('coding', [{}])[0].get('display'),\n",
    "                'start': parse_date(resource.get('period', {}).get('start')),\n",
    "                'end': parse_date(resource.get('period', {}).get('end'))\n",
    "            })\n",
    "\n",
    "    return patient_info, medication_requests, encounter_requests\n"
   ]
  },
  {
   "cell_type": "code",
   "execution_count": 11,
   "metadata": {},
   "outputs": [],
   "source": [
    "\n",
    "def validate_fhir_json(json_data):\n",
    "                \"\"\"Validate that JSON follows basic FHIR resource format requirements.\"\"\"\n",
    "                if not isinstance(json_data, dict):\n",
    "                    return False\n",
    "                \n",
    "                # Check required FHIR elements\n",
    "                if 'resourceType' not in json_data:\n",
    "                    return False\n",
    "                    \n",
    "                # Check entry array exists and contains resources\n",
    "                if 'entry' not in json_data:\n",
    "                    return False\n",
    "                    \n",
    "                entries = json_data.get('entry', [])\n",
    "                if not isinstance(entries, list):\n",
    "                    return False\n",
    "                    \n",
    "                # Validate each entry has resource and resourceType\n",
    "                for entry in entries:\n",
    "                    if not isinstance(entry, dict):\n",
    "                        return False\n",
    "                    if 'resource' not in entry:\n",
    "                        return False\n",
    "                    if 'resourceType' not in entry['resource']:\n",
    "                        return False\n",
    "                        \n",
    "                return True\n"
   ]
  },
  {
   "cell_type": "code",
   "execution_count": 12,
   "metadata": {},
   "outputs": [],
   "source": [
    "\n",
    "def process_json_files(directory):\n",
    "    \"\"\"Process all JSON files in the given directory and extract patient, medication, and encounter data.\"\"\"\n",
    "    all_patients = []\n",
    "    all_medication_requests = []\n",
    "    all_encounter_requests = []\n",
    "\n",
    "    for filename in os.listdir(directory):\n",
    "        if filename.endswith('.json'):\n",
    "            file_path = os.path.join(directory, filename)\n",
    "\n",
    "            with open(file_path) as f:\n",
    "                print(f\"checking: {filename}\")\n",
    "                json_data = json.load(f)\n",
    "\n",
    "            if not validate_fhir_json(json_data):\n",
    "                print(f\"Invalid FHIR JSON format in file: {filename}\")\n",
    "                continue\n",
    "\n",
    "            patient, medication_requests, encounters_requests = extract_data_from_json(file_path)\n",
    "\n",
    "            if patient:\n",
    "                all_patients.append(patient)\n",
    "            all_medication_requests.extend(medication_requests)\n",
    "            all_encounter_requests.extend(encounters_requests)\n",
    "\n",
    "    return all_patients, all_medication_requests, all_encounter_requests\n"
   ]
  },
  {
   "cell_type": "code",
   "execution_count": 15,
   "metadata": {},
   "outputs": [
    {
     "name": "stdout",
     "output_type": "stream",
     "text": [
      "c:\\locr\\mendel\\data\n",
      "c:\\locr\\mendel\\data\\Ali918_invalid.json\n",
      "c:\\locr\\mendel\\data\\Ali918_Klocko335_c16b9aea-2b5f-3866-22a1-01dea645c9e1.json\n",
      "c:\\locr\\mendel\\data\\Alvin56_Rempel203_3a46995f-0d6d-db33-42b9-1582414dffef.json\n",
      "c:\\locr\\mendel\\data\\Barry322_Balistreri607_ad634079-c15f-8a99-31a5-f9427a1889a4.json\n",
      "c:\\locr\\mendel\\data\\Barry322_Langworth352_b9c319c3-5a7d-69a7-ba09-368625f2bb88.json\n",
      "c:\\locr\\mendel\\data\\label.search=1535362.json\n",
      "c:\\locr\\mendel\\data\\label.search=197591.json\n",
      "c:\\locr\\mendel\\data\\search=active_ingredient-acetaminophen.json\n"
     ]
    }
   ],
   "source": [
    "DATA_DIRECTORY = 'c:\\\\locr\\\\mendel\\\\data'\n",
    "\n",
    "try:\n",
    "    print(DATA_DIRECTORY)\n",
    "    if not os.path.exists(DATA_DIRECTORY):\n",
    "        os.makedirs(DATA_DIRECTORY)\n",
    "        print(\"path does not exist\")\n",
    "    for filename in os.listdir(DATA_DIRECTORY):\n",
    "        if filename.endswith('.json'):\n",
    "            file_path = os.path.join(DATA_DIRECTORY, filename)\n",
    "            print(file_path)\n",
    "except OSError as e:\n",
    "    print(f\"Error accessing directory: {e}\")\n"
   ]
  },
  {
   "cell_type": "code",
   "execution_count": 16,
   "metadata": {},
   "outputs": [
    {
     "name": "stdout",
     "output_type": "stream",
     "text": [
      "checking: Ali918_invalid.json\n",
      "Invalid FHIR JSON format in file: Ali918_invalid.json\n",
      "checking: Ali918_Klocko335_c16b9aea-2b5f-3866-22a1-01dea645c9e1.json\n",
      "processing:  c:\\locr\\mendel\\data\\Ali918_Klocko335_c16b9aea-2b5f-3866-22a1-01dea645c9e1.json\n",
      "checking: Alvin56_Rempel203_3a46995f-0d6d-db33-42b9-1582414dffef.json\n",
      "processing:  c:\\locr\\mendel\\data\\Alvin56_Rempel203_3a46995f-0d6d-db33-42b9-1582414dffef.json\n",
      "checking: Barry322_Balistreri607_ad634079-c15f-8a99-31a5-f9427a1889a4.json\n",
      "processing:  c:\\locr\\mendel\\data\\Barry322_Balistreri607_ad634079-c15f-8a99-31a5-f9427a1889a4.json\n",
      "checking: Barry322_Langworth352_b9c319c3-5a7d-69a7-ba09-368625f2bb88.json\n",
      "processing:  c:\\locr\\mendel\\data\\Barry322_Langworth352_b9c319c3-5a7d-69a7-ba09-368625f2bb88.json\n",
      "checking: label.search=1535362.json\n",
      "Invalid FHIR JSON format in file: label.search=1535362.json\n",
      "checking: label.search=197591.json\n",
      "Invalid FHIR JSON format in file: label.search=197591.json\n",
      "checking: search=active_ingredient-acetaminophen.json\n",
      "Invalid FHIR JSON format in file: search=active_ingredient-acetaminophen.json\n"
     ]
    }
   ],
   "source": [
    "\n",
    "patients, medications, encounters = process_json_files('c:\\locr\\mendel\\data')\n",
    "\n",
    "patients_df = pd.DataFrame(patients)\n",
    "medication_requests_df = pd.DataFrame(medications)\n",
    "encounters_df = pd.DataFrame(encounters)\n"
   ]
  },
  {
   "cell_type": "code",
   "execution_count": 19,
   "metadata": {},
   "outputs": [],
   "source": [
    "from ipywidgets import interact\n",
    "pd.options.plotting.backend = \"plotly\"\n",
    "\n",
    "# medication_requests_df\n",
    "# encounters_df\n",
    "# patients_df\n"
   ]
  },
  {
   "cell_type": "code",
   "execution_count": 27,
   "metadata": {},
   "outputs": [
    {
     "data": {
      "text/html": [
       "<div>\n",
       "<style scoped>\n",
       "    .dataframe tbody tr th:only-of-type {\n",
       "        vertical-align: middle;\n",
       "    }\n",
       "\n",
       "    .dataframe tbody tr th {\n",
       "        vertical-align: top;\n",
       "    }\n",
       "\n",
       "    .dataframe thead th {\n",
       "        text-align: right;\n",
       "    }\n",
       "</style>\n",
       "<table border=\"1\" class=\"dataframe\">\n",
       "  <thead>\n",
       "    <tr style=\"text-align: right;\">\n",
       "      <th></th>\n",
       "      <th>id</th>\n",
       "      <th>gender</th>\n",
       "      <th>birthDate</th>\n",
       "      <th>name</th>\n",
       "    </tr>\n",
       "  </thead>\n",
       "  <tbody>\n",
       "    <tr>\n",
       "      <th>0</th>\n",
       "      <td>c16b9aea-2b5f-3866-22a1-01dea645c9e1</td>\n",
       "      <td>male</td>\n",
       "      <td>1991-05-07</td>\n",
       "      <td></td>\n",
       "    </tr>\n",
       "    <tr>\n",
       "      <th>1</th>\n",
       "      <td>3a46995f-0d6d-db33-42b9-1582414dffef</td>\n",
       "      <td>male</td>\n",
       "      <td>2013-08-01</td>\n",
       "      <td></td>\n",
       "    </tr>\n",
       "    <tr>\n",
       "      <th>2</th>\n",
       "      <td>ad634079-c15f-8a99-31a5-f9427a1889a4</td>\n",
       "      <td>male</td>\n",
       "      <td>1981-05-01</td>\n",
       "      <td></td>\n",
       "    </tr>\n",
       "    <tr>\n",
       "      <th>3</th>\n",
       "      <td>b9c319c3-5a7d-69a7-ba09-368625f2bb88</td>\n",
       "      <td>male</td>\n",
       "      <td>2000-03-14</td>\n",
       "      <td></td>\n",
       "    </tr>\n",
       "  </tbody>\n",
       "</table>\n",
       "</div>"
      ],
      "text/plain": [
       "                                     id gender  birthDate name\n",
       "0  c16b9aea-2b5f-3866-22a1-01dea645c9e1   male 1991-05-07     \n",
       "1  3a46995f-0d6d-db33-42b9-1582414dffef   male 2013-08-01     \n",
       "2  ad634079-c15f-8a99-31a5-f9427a1889a4   male 1981-05-01     \n",
       "3  b9c319c3-5a7d-69a7-ba09-368625f2bb88   male 2000-03-14     "
      ]
     },
     "execution_count": 27,
     "metadata": {},
     "output_type": "execute_result"
    }
   ],
   "source": [
    "patients_df.head(10)"
   ]
  },
  {
   "cell_type": "code",
   "execution_count": 46,
   "metadata": {},
   "outputs": [
    {
     "data": {
      "application/vnd.jupyter.widget-view+json": {
       "model_id": "4ec2ed07f0414c97add4b34b1592d7ab",
       "version_major": 2,
       "version_minor": 0
      },
      "text/plain": [
       "interactive(children=(Dropdown(description='df', options=('id', 'gender', 'birthDate', 'name'), value='id'), T…"
      ]
     },
     "metadata": {},
     "output_type": "display_data"
    }
   ],
   "source": [
    "@interact\n",
    "# def filter_by_gender(df=patients_df['gender'], condition='male'):\n",
    "def filter_by_gender(df=patients_df, column='gender', condition='male'):\n",
    "    \"\"\"Filter the data by a column value condition.\"\"\"\n",
    "    if isinstance(df, str):\n",
    "        return \"Please select a DataFrame column\"\n",
    "    filtered_data = df[df[column] == condition]\n",
    "    print(f\"Filtered data: {filtered_data.shape[0]} rows\")\n",
    "    return filtered_data.head()\n",
    "\n",
    "# fdf = filter_by_gender(patients_df)\n",
    "# fdf"
   ]
  },
  {
   "cell_type": "code",
   "execution_count": 17,
   "metadata": {},
   "outputs": [],
   "source": [
    "\n",
    "# df_patients.to_csv('patients.csv', index=False)\n",
    "# df_medication_requests.to_csv('medication_requests.csv', index=False)\n",
    "# df_encounters.to_csv('encounters.csv', index=False)\n"
   ]
  },
  {
   "cell_type": "markdown",
   "metadata": {},
   "source": [
    "---"
   ]
  },
  {
   "cell_type": "markdown",
   "metadata": {},
   "source": [
    "# query"
   ]
  },
  {
   "cell_type": "code",
   "execution_count": 50,
   "metadata": {},
   "outputs": [],
   "source": [
    "FHIR_product_code = \"1535362\"  "
   ]
  },
  {
   "cell_type": "code",
   "execution_count": 51,
   "metadata": {},
   "outputs": [],
   "source": [
    "\n",
    "def search_fda_drugs(drug_code):\n",
    "    url = f\"https://api.fda.gov/drug/label.json?search={drug_code}\"\n",
    "    response = requests.get(url, timeout=5)\n",
    "    if response.status_code == 200:\n",
    "        drug_data = response.json()\n",
    "        print(drug_data)\n",
    "        return drug_data\n",
    "    else:\n",
    "        print(f\"Error: {response.status_code}\")\n"
   ]
  },
  {
   "cell_type": "code",
   "execution_count": 52,
   "metadata": {},
   "outputs": [
    {
     "name": "stdout",
     "output_type": "stream",
     "text": [
      "{'meta': {'disclaimer': 'Do not rely on openFDA to make decisions regarding medical care. While we make every effort to ensure that data is accurate, you should assume all results are unvalidated. We may limit or otherwise restrict your access to the API in line with our Terms of Service.', 'terms': 'https://open.fda.gov/terms/', 'license': 'https://open.fda.gov/license/', 'last_updated': '2024-11-01', 'results': {'skip': 0, 'limit': 1, 'total': 21}}, 'results': [{'spl_product_data_elements': ['KOLORZ SIXTY SECOND FLUORIDE CHERRY CHEESECAKE SODIUM FLUORIDE SODIUM FLUORIDE FLUORIDE ION WATER SUCRALOSE XYLITOL COCAMIDOPROPYL BETAINE CHERRY CHEESECAKE KOLORZ SIXTY SECOND FLUORIDE PINA COLADA SODIUM FLUORIDE SODIUM FLUORIDE FLUORIDE ION WATER SUCRALOSE XYLITOL COCAMIDOPROPYL BETAINE PIÑA COLADA KOLORZ SIXTY SECOND FLUORIDE TRIPLE MINT SODIUM FLUORIDE SODIUM FLUORIDE FLUORIDE ION WATER SUCRALOSE XYLITOL COCAMIDOPROPYL BETAINE TRIPLE MINT KOLORZ SIXTY SECOND FLUORIDE BLUE RASPBERRY SODIUM FLUORIDE SODIUM FLUORIDE FLUORIDE ION WATER SUCRALOSE XYLITOL COCAMIDOPROPYL BETAINE BLUE RASPBERRY KOLORZ SIXTY SECOND FLUORIDE COTTON CANDY SODIUM FLUORIDE SODIUM FLUORIDE FLUORIDE ION WATER SUCRALOSE XYLITOL COCAMIDOPROPYL BETAINE COTTON CANDY'], 'indications_and_usage': ['INDICATIONS For topical application of fluoride to aid in the protection against dental caries.'], 'dosage_and_administration': ['DOSAGE & ADMINISTRATION Fill fluoride tray(s) 1/3 full with gel. Dry tooth surface and insert tray(s) in mouth. Have patient bite down for 60 seconds (or up to 4 minutes). Slight chewing motion provides interproximal coverage. Remove tray(s) and have patient expectorate excess gel. Advise patient not to eat, drink or rinse for 30 minutes.'], 'description': ['CONTAINS Sodium Fluoride in a proprietary acidulated phosphate flavored gel base. 1.23% Fluoride Ion from 2.72% Sodium Fluoride. Sweetened with Sucralose. Does not contain Aspartame or Saccharin. Gluten Free.'], 'warnings': ['WARNING Keep out of reach of children. Do not swallow. If dosage or less than 100mg is ingested, contact poison control.'], 'storage_and_handling': ['Store between 68-77° F. Keep from freezing.'], 'spl_unclassified_section': ['Contains FD&C Blue #1.', 'EMERGENCY RESPONSE Call Infotrac 1-800-535-5053', 'Made in USA Distributed by :DMG America LLC, 242 South Dean Street Englewood, NJ 07631, 800-662-6383 www.dmg-america.com Rev. 4/09 RE-ORDER #777304 392415'], 'package_label_principal_display_panel': ['PRINCIPAL DISPLAY PANEL - 480 ml Bottle Label - Cherry Cheesecake Best Taste... Guaranteed! kolorz ® Sixty Second Fluoride Gel Cherry Cheesecake APF Topical Fluoride Acidulated Phosphate Fluoride 1.23% Fluoride Ion GLUTEN FREE! Contains XYLITOL CAUTION: For professional use only. Shake well before each use. NET WT. 16 OZ (480ml) PRINCIPAL DISPLAY PANEL - 480 ml Bottle Label - Cherry Cheesecake', 'PRINCIPAL DISPLAY PANEL - 480 ml Bottle Label - Piña Colada Best Taste... Guaranteed! kolorz ® Sixty Second Fluoride Gel Piña Colada APF Topical Fluoride Acidulated Phosphate Fluoride 1.23% Fluoride Ion GLUTEN FREE! Contains XYLITOL CAUTION: For professional use only. Shake well before each use. NET WT. 16 OZ (480ml) PRINCIPAL DISPLAY PANEL - 480 ml Bottle Label - Piña Colada', 'PRINCIPAL DISPLAY PANEL - 480 ml Bottle Label - Triple Mint Best Taste... Guaranteed! kolorz ® Sixty Second Fluoride Gel Triple Mint APF Topical Fluoride Acidulated Phosphate Fluoride 1.23% Fluoride Ion GLUTEN FREE! Contains XYLITOL CAUTION: For professional use only. Shake well before each use. NET WT. 16 OZ (480ml) PRINCIPAL DISPLAY PANEL - 480 ml Bottle Label - Triple Mint', 'PRINCIPAL DISPLAY PANEL - 480 ml Bottle Label - Blue Raspberry Best Taste... Guaranteed! kolorz ® Sixty Second Fluoride Gel Blue Raspberry APF Topical Fluoride Acidulated Phosphate Fluoride 1.23% Fluoride Ion GLUTEN FREE! Contains XYLITOL CAUTION: For professional use only. Shake well before each use. NET WT. 16 OZ (480ml) PRINCIPAL DISPLAY PANEL - 480 ml Bottle Label - Blue Raspberry', 'PRINCIPAL DISPLAY PANEL - 480 ml Bottle Label - Cotton Candy Best Taste... Guaranteed! kolorz ® Sixty Second Fluoride Gel Cotton Candy APF Topical Fluoride Acidulated Phosphate Fluoride 1.23% Fluoride Ion GLUTEN FREE! Contains XYLITOL CAUTION: For professional use only. Shake well before each use. NET WT. 16 OZ (480ml) PRINCIPAL DISPLAY PANEL - 480 ml Bottle Label - Cotton Candy'], 'set_id': '21fa26f2-0162-4044-aec0-d5360be3f3e0', 'id': 'f15de5cf-4f64-472b-bda4-87daed17c864', 'effective_time': '20190328', 'version': '4', 'openfda': {'brand_name': ['KOLORZ SIXTY SECOND FLUORIDE TRIPLE MINT'], 'generic_name': ['SODIUM FLUORIDE'], 'manufacturer_name': ['DMG AMERICA, LLC'], 'product_ndc': ['25047-771', '25047-772', '25047-775', '25047-774', '25047-773'], 'product_type': ['HUMAN PRESCRIPTION DRUG'], 'route': ['DENTAL'], 'substance_name': ['SODIUM FLUORIDE'], 'rxcui': ['1535362', '2121950'], 'spl_id': ['f15de5cf-4f64-472b-bda4-87daed17c864'], 'spl_set_id': ['21fa26f2-0162-4044-aec0-d5360be3f3e0'], 'package_ndc': ['25047-772-16', '25047-775-16', '25047-771-16', '25047-774-16', '25047-773-16'], 'is_original_packager': [True], 'unii': ['8ZYQ1474W7']}}]}\n"
     ]
    },
    {
     "data": {
      "text/plain": [
       "{'meta': {'disclaimer': 'Do not rely on openFDA to make decisions regarding medical care. While we make every effort to ensure that data is accurate, you should assume all results are unvalidated. We may limit or otherwise restrict your access to the API in line with our Terms of Service.',\n",
       "  'terms': 'https://open.fda.gov/terms/',\n",
       "  'license': 'https://open.fda.gov/license/',\n",
       "  'last_updated': '2024-11-01',\n",
       "  'results': {'skip': 0, 'limit': 1, 'total': 21}},\n",
       " 'results': [{'spl_product_data_elements': ['KOLORZ SIXTY SECOND FLUORIDE CHERRY CHEESECAKE SODIUM FLUORIDE SODIUM FLUORIDE FLUORIDE ION WATER SUCRALOSE XYLITOL COCAMIDOPROPYL BETAINE CHERRY CHEESECAKE KOLORZ SIXTY SECOND FLUORIDE PINA COLADA SODIUM FLUORIDE SODIUM FLUORIDE FLUORIDE ION WATER SUCRALOSE XYLITOL COCAMIDOPROPYL BETAINE PIÑA COLADA KOLORZ SIXTY SECOND FLUORIDE TRIPLE MINT SODIUM FLUORIDE SODIUM FLUORIDE FLUORIDE ION WATER SUCRALOSE XYLITOL COCAMIDOPROPYL BETAINE TRIPLE MINT KOLORZ SIXTY SECOND FLUORIDE BLUE RASPBERRY SODIUM FLUORIDE SODIUM FLUORIDE FLUORIDE ION WATER SUCRALOSE XYLITOL COCAMIDOPROPYL BETAINE BLUE RASPBERRY KOLORZ SIXTY SECOND FLUORIDE COTTON CANDY SODIUM FLUORIDE SODIUM FLUORIDE FLUORIDE ION WATER SUCRALOSE XYLITOL COCAMIDOPROPYL BETAINE COTTON CANDY'],\n",
       "   'indications_and_usage': ['INDICATIONS For topical application of fluoride to aid in the protection against dental caries.'],\n",
       "   'dosage_and_administration': ['DOSAGE & ADMINISTRATION Fill fluoride tray(s) 1/3 full with gel. Dry tooth surface and insert tray(s) in mouth. Have patient bite down for 60 seconds (or up to 4 minutes). Slight chewing motion provides interproximal coverage. Remove tray(s) and have patient expectorate excess gel. Advise patient not to eat, drink or rinse for 30 minutes.'],\n",
       "   'description': ['CONTAINS Sodium Fluoride in a proprietary acidulated phosphate flavored gel base. 1.23% Fluoride Ion from 2.72% Sodium Fluoride. Sweetened with Sucralose. Does not contain Aspartame or Saccharin. Gluten Free.'],\n",
       "   'warnings': ['WARNING Keep out of reach of children. Do not swallow. If dosage or less than 100mg is ingested, contact poison control.'],\n",
       "   'storage_and_handling': ['Store between 68-77° F. Keep from freezing.'],\n",
       "   'spl_unclassified_section': ['Contains FD&C Blue #1.',\n",
       "    'EMERGENCY RESPONSE Call Infotrac 1-800-535-5053',\n",
       "    'Made in USA Distributed by :DMG America LLC, 242 South Dean Street Englewood, NJ 07631, 800-662-6383 www.dmg-america.com Rev. 4/09 RE-ORDER #777304 392415'],\n",
       "   'package_label_principal_display_panel': ['PRINCIPAL DISPLAY PANEL - 480 ml Bottle Label - Cherry Cheesecake Best Taste... Guaranteed! kolorz ® Sixty Second Fluoride Gel Cherry Cheesecake APF Topical Fluoride Acidulated Phosphate Fluoride 1.23% Fluoride Ion GLUTEN FREE! Contains XYLITOL CAUTION: For professional use only. Shake well before each use. NET WT. 16 OZ (480ml) PRINCIPAL DISPLAY PANEL - 480 ml Bottle Label - Cherry Cheesecake',\n",
       "    'PRINCIPAL DISPLAY PANEL - 480 ml Bottle Label - Piña Colada Best Taste... Guaranteed! kolorz ® Sixty Second Fluoride Gel Piña Colada APF Topical Fluoride Acidulated Phosphate Fluoride 1.23% Fluoride Ion GLUTEN FREE! Contains XYLITOL CAUTION: For professional use only. Shake well before each use. NET WT. 16 OZ (480ml) PRINCIPAL DISPLAY PANEL - 480 ml Bottle Label - Piña Colada',\n",
       "    'PRINCIPAL DISPLAY PANEL - 480 ml Bottle Label - Triple Mint Best Taste... Guaranteed! kolorz ® Sixty Second Fluoride Gel Triple Mint APF Topical Fluoride Acidulated Phosphate Fluoride 1.23% Fluoride Ion GLUTEN FREE! Contains XYLITOL CAUTION: For professional use only. Shake well before each use. NET WT. 16 OZ (480ml) PRINCIPAL DISPLAY PANEL - 480 ml Bottle Label - Triple Mint',\n",
       "    'PRINCIPAL DISPLAY PANEL - 480 ml Bottle Label - Blue Raspberry Best Taste... Guaranteed! kolorz ® Sixty Second Fluoride Gel Blue Raspberry APF Topical Fluoride Acidulated Phosphate Fluoride 1.23% Fluoride Ion GLUTEN FREE! Contains XYLITOL CAUTION: For professional use only. Shake well before each use. NET WT. 16 OZ (480ml) PRINCIPAL DISPLAY PANEL - 480 ml Bottle Label - Blue Raspberry',\n",
       "    'PRINCIPAL DISPLAY PANEL - 480 ml Bottle Label - Cotton Candy Best Taste... Guaranteed! kolorz ® Sixty Second Fluoride Gel Cotton Candy APF Topical Fluoride Acidulated Phosphate Fluoride 1.23% Fluoride Ion GLUTEN FREE! Contains XYLITOL CAUTION: For professional use only. Shake well before each use. NET WT. 16 OZ (480ml) PRINCIPAL DISPLAY PANEL - 480 ml Bottle Label - Cotton Candy'],\n",
       "   'set_id': '21fa26f2-0162-4044-aec0-d5360be3f3e0',\n",
       "   'id': 'f15de5cf-4f64-472b-bda4-87daed17c864',\n",
       "   'effective_time': '20190328',\n",
       "   'version': '4',\n",
       "   'openfda': {'brand_name': ['KOLORZ SIXTY SECOND FLUORIDE TRIPLE MINT'],\n",
       "    'generic_name': ['SODIUM FLUORIDE'],\n",
       "    'manufacturer_name': ['DMG AMERICA, LLC'],\n",
       "    'product_ndc': ['25047-771',\n",
       "     '25047-772',\n",
       "     '25047-775',\n",
       "     '25047-774',\n",
       "     '25047-773'],\n",
       "    'product_type': ['HUMAN PRESCRIPTION DRUG'],\n",
       "    'route': ['DENTAL'],\n",
       "    'substance_name': ['SODIUM FLUORIDE'],\n",
       "    'rxcui': ['1535362', '2121950'],\n",
       "    'spl_id': ['f15de5cf-4f64-472b-bda4-87daed17c864'],\n",
       "    'spl_set_id': ['21fa26f2-0162-4044-aec0-d5360be3f3e0'],\n",
       "    'package_ndc': ['25047-772-16',\n",
       "     '25047-775-16',\n",
       "     '25047-771-16',\n",
       "     '25047-774-16',\n",
       "     '25047-773-16'],\n",
       "    'is_original_packager': [True],\n",
       "    'unii': ['8ZYQ1474W7']}}]}"
      ]
     },
     "execution_count": 52,
     "metadata": {},
     "output_type": "execute_result"
    }
   ],
   "source": [
    "\n",
    "drugs_json = search_fda_drugs(FHIR_product_code)\n",
    "drugs_json\n"
   ]
  },
  {
   "cell_type": "code",
   "execution_count": 53,
   "metadata": {},
   "outputs": [],
   "source": [
    "\n",
    "# def extract_medication_data(result):\n",
    "#     return {\n",
    "#         'id': result['results'][0]['id'],\n",
    "#         'effective_time': format_date(result['results'][0]['effective_time']),\n",
    "#         'last_updated': result['meta']['last_updated'],\n",
    "\n",
    "#         'brand_name': result['results'][0]['openfda'].get('brand_name', [None])[0],\n",
    "#         'generic_name': result['results'][0]['openfda'].get('generic_name', [None])[0],\n",
    "#         'manufacturer_name': result['results'][0]['openfda'].get('manufacturer_name', [None])[0],\n",
    "#         'product_ndc': result['results'][0]['openfda'].get('product_ndc', [None])[0],\n",
    "#         'package_ndc': result['results'][0]['openfda'].get('package_ndc', [None]),#[0],\n",
    "#         'product_type': result['results'][0]['openfda'].get('product_type', [None])[0],\n",
    "#         'route': result['results'][0]['openfda'].get('route', [None])[0],\n",
    "#         'substance_name': result['results'][0]['openfda'].get('substance_name', [None])[0],\n",
    "#         'rxcui': result['results'][0]['openfda'].get('rxcui', [None])[0],\n",
    "#         'unii': result['results'][0]['openfda'].get('unii', [None]),#[0],\n",
    "\n",
    "#         'elements': result['results'][0]['spl_product_data_elements'][0],\n",
    "#         'indications_and_usage': result['results'][0]['indications_and_usage'][0],\n",
    "#         'dosage_and_administration': result['results'][0]['dosage_and_administration'][0],\n",
    "#         'description': result['results'][0]['description'][0],\n",
    "#         'warnings': result['results'][0]['warnings'][0]\n",
    "#     }\n"
   ]
  },
  {
   "cell_type": "code",
   "execution_count": 62,
   "metadata": {},
   "outputs": [],
   "source": [
    "\n",
    "def safe_get(dictionary, keys, default=None):\n",
    "    for key in keys:\n",
    "        try:\n",
    "            dictionary = dictionary[key]\n",
    "        except (KeyError, IndexError, TypeError):\n",
    "            return default\n",
    "    return dictionary\n",
    "\n",
    "def extract_medication_data(result):\n",
    "\n",
    "    return {\n",
    "        'id': safe_get(result, ['results', 0, 'id'], None),\n",
    "        'code': safe_get(result, ['results', 0, 'openfda', 'rxcui'], [None])[0],\n",
    "        'effective_time': format_date(safe_get(result, ['results', 0, 'effective_time'], None)),\n",
    "        'last_updated': safe_get(result, ['meta', 'last_updated'], None),\n",
    "\n",
    "        'brand_name': safe_get(result, ['results', 0, 'openfda', 'brand_name'], [None])[0],\n",
    "        'generic_name': safe_get(result, ['results', 0, 'openfda', 'generic_name'], [None])[0],\n",
    "        'manufacturer_name': safe_get(result, ['results', 0, 'openfda', 'manufacturer_name'], [None])[0],\n",
    "        'product_ndc': safe_get(result, ['results', 0, 'openfda', 'product_ndc'], [None]),#[0], # pass the list\n",
    "        'package_ndc': safe_get(result, ['results', 0, 'openfda', 'package_ndc'], None),\n",
    "        'product_type': safe_get(result, ['results', 0, 'openfda', 'product_type'], [None])[0],\n",
    "        'route': safe_get(result, ['results', 0, 'openfda', 'route'], [None])[0],\n",
    "        'substance_name': safe_get(result, ['results', 0, 'openfda', 'substance_name'], [None])[0],\n",
    "        'rxcui': safe_get(result, ['results', 0, 'openfda', 'rxcui'], [None]),#[0], # pass the list\n",
    "        'unii': safe_get(result, ['results', 0, 'openfda', 'unii'], None),\n",
    "\n",
    "        'elements': safe_get(result, ['results', 0, 'spl_product_data_elements'], [None])[0],\n",
    "        'indications_and_usage': safe_get(result, ['results', 0, 'indications_and_usage'], [None])[0],\n",
    "        'dosage_and_administration': safe_get(result, ['results', 0, 'dosage_and_administration'], [None])[0],\n",
    "        'description': safe_get(result, ['results', 0, 'description'], [None])[0],\n",
    "        'warnings': safe_get(result, ['results', 0, 'warnings'], [None])[0]\n",
    "    }\n"
   ]
  },
  {
   "cell_type": "code",
   "execution_count": 55,
   "metadata": {},
   "outputs": [],
   "source": [
    "\n",
    "def generate_medication_df(FHIR_product_codes: list[str])-> pd.DataFrame:\n",
    "    medications = []\n",
    "    for code in FHIR_product_codes:\n",
    "        response = search_fda_drugs(code)\n",
    "        medication = extract_medication_data(response)\n",
    "        medications.append(medication)\n",
    "\n",
    "    medications_df = pd.DataFrame(medications)\n",
    "    print(medications_df.head())\n",
    "    return medications_df\n"
   ]
  },
  {
   "cell_type": "code",
   "execution_count": null,
   "metadata": {},
   "outputs": [],
   "source": [
    "medications_df = generate_medication_df([FHIR_product_code])\n",
    "medications_df"
   ]
  },
  {
   "cell_type": "markdown",
   "metadata": {},
   "source": [
    "---"
   ]
  },
  {
   "cell_type": "markdown",
   "metadata": {},
   "source": [
    "# integrate extraction, transformation, and querying"
   ]
  },
  {
   "cell_type": "code",
   "execution_count": 54,
   "metadata": {},
   "outputs": [],
   "source": [
    "\n",
    "# TODO \n",
    "# for every medication with status is active or not stopped\n",
    "# nested elements in medication > ARRAY\n"
   ]
  },
  {
   "cell_type": "code",
   "execution_count": 60,
   "metadata": {},
   "outputs": [],
   "source": [
    "\n",
    "def get_active_medications(medication_requests_df):\n",
    "    active_statuses = ['active',]\n",
    "    active_medications = medication_requests_df[medication_requests_df['status'].isin(active_statuses)]\n",
    "    \n",
    "    drug_codes = active_medications['code'].tolist()\n",
    "    medications_df = generate_medication_df(drug_codes)\n",
    "    return medications_df\n"
   ]
  },
  {
   "cell_type": "code",
   "execution_count": 63,
   "metadata": {},
   "outputs": [
    {
     "name": "stdout",
     "output_type": "stream",
     "text": [
      "{'meta': {'disclaimer': 'Do not rely on openFDA to make decisions regarding medical care. While we make every effort to ensure that data is accurate, you should assume all results are unvalidated. We may limit or otherwise restrict your access to the API in line with our Terms of Service.', 'terms': 'https://open.fda.gov/terms/', 'license': 'https://open.fda.gov/license/', 'last_updated': '2024-11-01', 'results': {'skip': 0, 'limit': 1, 'total': 43}}, 'results': [{'spl_product_data_elements': ['Diazepam Diazepam ANHYDROUS LACTOSE MAGNESIUM STEARATE MICROCRYSTALLINE CELLULOSE D&C YELLOW NO. 10 DIAZEPAM DIAZEPAM MYX;942;5 Chemical Structure'], 'spl_unclassified_section': ['Rx only', 'Medication Guides available at products.maynepharma.com or call 1-844-825-8500. Manufactured by: Mayne Pharma Greenville, NC 27834 Revised: 03/2021 61771'], 'boxed_warning': [\"WARNINING: RISKS FROM CONCOMITANT USE WITH OPIOIDS; ABUSE, MISUSE, AND ADDICTION; and DEPENDENCE AND WITHDRAWAL REACTIONS Concomitant use of benzodiazepines and opioids may result in profound sedation, respiratory depression, coma, and death. Reserve concomitant prescribing of these drugs in patients for whom alternative treatment options are inadequate. Limit dosages and durations to the minimum required. Follow patients for signs and symptoms of respiratory depression and sedation (see WARNINGS and PRECAUTIONS ). The use of benzodiazepines, including Diazepam, exposes users to risks of abuse, misuse, and addiction, which can lead to overdose or death. Abuse and misuse of benzodiazepines commonly involve concomitant use of other medications, alcohol, and/or illicit substances, which is associated with an increased frequency of serious adverse outcomes. Before prescribing Diazepam and throughout treatment, assess each patient's risk for abuse, misuse, and addiction (see WARNINGS ) . The continued use of benzodiazepines, including Diazepam, may lead to clinically significant physical dependence. The risks of dependence and withdrawal increase with longer treatment duration and higher daily dose. Abrupt discontinuation or rapid dosage reduction of Diazepam after continued use may precipitate acute withdrawal reactions, which can be life-threatening. To reduce the risk of withdrawal reactions, use a gradual taper to discontinue Diazepam or reduce the dosage (see DOSAGE AND ADMINISTRATION and WARNINGS )\"], 'description': ['DESCRIPTION Diazepam is a benzodiazepine derivative. The chemical name of diazepam is 7-chloro-1,3-dihydro-1-methyl-5-phenyl-2H-1,4-benzodiazepin-2-one. It is a colorless to light yellow crystalline compound, insoluble in water. The empirical formula is C 16 H 13 ClN 2 O and the molecular weight is 284.75. The structural formula is as follows: Diazepam is available for oral administration as tablets containing 2 mg, 5 mg or 10 mg diazepam. In addition to the active ingredient diazepam, each tablet contains the following inactive ingredients: anhydrous lactose, magnesium stearate and microcrystalline cellulose. Diazepam Tablets USP 5 mg also contain D&C Yellow No. 10. Diazepam Tablets USP 10 mg also contain FD&C Blue No. 1.'], 'clinical_pharmacology': ['CLINICAL PHARMACOLOGY Diazepam is a benzodiazepine that exerts anxiolytic, sedative, muscle-relaxant, anticonvulsant and amnestic effects. Most of these effects are thought to result from a facilitation of the action of gamma aminobutyric acid (GABA), an inhibitory neurotransmitter in the central nervous system. Pharmacokinetics Absorption After oral administration >90% of diazepam is absorbed and the average time to achieve peak plasma concentrations is 1 – 1.5 hours with a range of 0.25 to 2.5 hours. Absorption is delayed and decreased when administered with a moderate fat meal. In the presence of food mean lag times are approximately 45 minutes as compared with 15 minutes when fasting. There is also an increase in the average time to achieve peak concentrations to about 2.5 hours in the presence of food as compared with 1.25 hours when fasting. This results in an average decrease in C max of 20% in addition to a 27% decrease in AUC (range 15% to 50%) when administered with food. Distribution Diazepam and its metabolites are highly bound to plasma proteins (diazepam 98%). Diazepam and its metabolites cross the blood-brain and placental barriers and are also found in breast milk in concentrations approximately one tenth of those in maternal plasma (days 3 to 9 post-partum). In young healthy males, the volume of distribution at steady-state is 0.8 to 1.0 L/kg. The decline in the plasma concentration-time profile after oral administration is biphasic. The initial distribution phase has a half-life of approximately 1 hour, although it may range up to >3 hours. Metabolism Diazepam is N-demethylated by CYP3A4 and 2C19 to the active metabolite N-desmethyldiazepam, and is hydroxylated by CYP3A4 to the active metabolite temazepam. N-desmethyldiazepam and temazepam are both further metabolized to oxazepam. Temazepam and oxazepam are largely eliminated by glucuronidation. Elimination The initial distribution phase is followed by a prolonged terminal elimination phase (half-life up to 48 hours). The terminal elimination half-life of the active metabolite N-desmethyldiazepam is up to 100 hours. Diazepam and its metabolites are excreted mainly in the urine, predominantly as their glucuronide conjugates. The clearance of diazepam is 20 to 30 mL/min in young adults. Diazepam accumulates upon multiple dosing and there is some evidence that the terminal elimination half-life is slightly prolonged. Pharmacokinetics in Special Populations Children In children 3 - 8 years old the mean half-life of diazepam has been reported to be 18 hours. Newborns In full term infants, elimination half-lives around 30 hours have been reported, with a longer average half-life of 54 hours reported in premature infants of 28 - 34 weeks gestational age and 8 - 81 days post-partum. In both premature and full term infants the active metabolite desmethyldiazepam shows evidence of continued accumulation compared to children. Longer half-lives in infants may be due to incomplete maturation of metabolic pathways. Geriatric Elimination half-life increases by approximately 1 hour for each year of age beginning with a half-life of 20 hours at 20 years of age. This appears to be due to an increase in volume of distribution with age and a decrease in clearance. Consequently, the elderly may have lower peak concentrations, and on multiple dosing higher trough concentrations. It will also take longer to reach steady-state. Conflicting information has been published on changes of plasma protein binding in the elderly. Reported changes in free drug may be due to significant decreases in plasma proteins due to causes other than simply aging. Hepatic Insufficiency In mild and moderate cirrhosis, average half-life is increased. The average increase has been variously reported from 2-fold to 5-fold, with individual half-lives over 500 hours reported. There is also an increase in volume of distribution, and average clearance decreases by almost half. Mean half-life is also prolonged with hepatic fibrosis to 90 hours (range 66 - 104 hours), with chronic active hepatitis to 60 hours (range 26 - 76 hours), and with acute viral hepatitis to 74 hours (range 49 - 129). In chronic active hepatitis, clearance is decreased by almost half.'], 'pharmacokinetics': ['Pharmacokinetics Absorption After oral administration >90% of diazepam is absorbed and the average time to achieve peak plasma concentrations is 1 – 1.5 hours with a range of 0.25 to 2.5 hours. Absorption is delayed and decreased when administered with a moderate fat meal. In the presence of food mean lag times are approximately 45 minutes as compared with 15 minutes when fasting. There is also an increase in the average time to achieve peak concentrations to about 2.5 hours in the presence of food as compared with 1.25 hours when fasting. This results in an average decrease in C max of 20% in addition to a 27% decrease in AUC (range 15% to 50%) when administered with food. Distribution Diazepam and its metabolites are highly bound to plasma proteins (diazepam 98%). Diazepam and its metabolites cross the blood-brain and placental barriers and are also found in breast milk in concentrations approximately one tenth of those in maternal plasma (days 3 to 9 post-partum). In young healthy males, the volume of distribution at steady-state is 0.8 to 1.0 L/kg. The decline in the plasma concentration-time profile after oral administration is biphasic. The initial distribution phase has a half-life of approximately 1 hour, although it may range up to >3 hours. Metabolism Diazepam is N-demethylated by CYP3A4 and 2C19 to the active metabolite N-desmethyldiazepam, and is hydroxylated by CYP3A4 to the active metabolite temazepam. N-desmethyldiazepam and temazepam are both further metabolized to oxazepam. Temazepam and oxazepam are largely eliminated by glucuronidation. Elimination The initial distribution phase is followed by a prolonged terminal elimination phase (half-life up to 48 hours). The terminal elimination half-life of the active metabolite N-desmethyldiazepam is up to 100 hours. Diazepam and its metabolites are excreted mainly in the urine, predominantly as their glucuronide conjugates. The clearance of diazepam is 20 to 30 mL/min in young adults. Diazepam accumulates upon multiple dosing and there is some evidence that the terminal elimination half-life is slightly prolonged.'], 'indications_and_usage': ['INDICATIONS Diazepam Tablets USP are indicated for the management of anxiety disorders or for the short-term relief of the symptoms of anxiety. Anxiety or tension associated with the stress of everyday life usually does not require treatment with an anxiolytic. In acute alcohol withdrawal, diazepam may be useful in the symptomatic relief of acute agitation, tremor, impending or acute delirium tremens and hallucinosis. Diazepam is a useful adjunct for the relief of skeletal muscle spasm due to reflex spasm to local pathology (such as inflammation of the muscles or joints, or secondary to trauma); spasticity caused by upper motor neuron disorders (such as cerebral palsy and paraplegia); athetosis; and stiff-man syndrome. Oral diazepam may be used adjunctively in convulsive disorders, although it has not proved useful as the sole therapy. The effectiveness of diazepam in long-term use, that is, more than 4 months, has not been assessed by systematic clinical studies. The physician should periodically reassess the usefulness of the drug for the individual patient.'], 'contraindications': ['CONTRAINDICATIONS Diazepam Tablets USP are contraindicated in patients with a known hypersensitivity to this drug and, because of lack of sufficient clinical experience, in pediatric patients under 6 months of age. Diazepam is also contraindicated in patients with myasthenia gravis, severe respiratory insufficiency, severe hepatic insufficiency, and sleep apnea syndrome. It may be used in patients with open-angle glaucoma who are receiving appropriate therapy, but is contraindicated in acute narrow-angle glaucoma.'], 'warnings': [\"WARNINGS Risks from Concomitant Use with Opioids Concomitant use of benzodiazepines, including diazepam tablets, and opioids may result in profound sedation, respiratory depression, coma, and death. Because of these risks, reserve concomitant prescribing of these drugs for use in patients for whom alternative treatment options are inadequate. Observational studies have demonstrated that concomitant use of opioid analgesics and benzodiazepines increases the risk of drug-related mortality compared to use of opioids alone. If a decision is made to prescribe diazepam tablets concomitantly with opioids, prescribe the lowest effective dosages and minimum durations of concomitant use, and follow patients closely for signs and symptoms of respiratory depression and sedation. In patients already receiving an opioid analgesic, prescribe a lower initial dose of diazepam tablets than indicated in the absence of an opioid and titrate based on clinical response. If an opioid is initiated in a patient already taking diazepam tablets, prescribe a lower initial dose of the opioid and titrate based upon clinical response. Advise both patients and caregivers about the risks of respiratory depression and sedation when diazepam tablets are used with opioids. Advise patients not to drive or operate heavy machinery until the effects of concomitant use with the opioid have been determined (see PRECAUTIONS: Drug Interactions ). Abuse, Misuse, and Addiction The use of benzodiazepines, including diazepam tablets, exposes users to the risks of abuse, misuse, and addiction, which can lead to overdose or death. Abuse and misuse of benzodiazepines often (but not always) involve the use of doses greater than the maximum recommended dosage and commonly involve concomitant use of other medications, alcohol, and/or illicit substances, which is associated with an increased frequency of serious adverse outcomes, including respiratory depression, overdose, or death (see DRUG ABUSE AND DEPENDENCE: Abuse ). Before prescribing diazepam tablets and throughout treatment, assess each patient's risk for abuse, misuse, and addiction (e.g., using a standardized screening tool). Use of diazepam tablets, particularly in patients at elevated risk, necessitates counseling about the risks and proper use of diazepam along with monitoring for signs and symptoms of abuse, misuse, and addiction. Prescribe the lowest effective dosage; avoid or minimize concomitant use of CNS depressants and other substances associated with abuse, misuse, and addiction (e.g., opioid analgesics, stimulants); and advise patients on the proper disposal of unused drug. If a substance use disorder is suspected, evaluate the patient and institute (or refer them for) early treatment, as appropriate. Dependence and Withdrawal Reactions To reduce the risk of withdrawal reactions, use a gradual taper to discontinue diazepam tablets or reduce the dosage (a patient-specific plan should be used to taper the dose) (see DOSAGE AND ADMINISTRATION: Discontinuation or Dosage Reduction of Diazepam ). Patients at an increased risk of withdrawal adverse reactions after benzodiazepine discontinuation or rapid dosage reduction include those who take higher dosages, and those who have had longer durations of use. Acute Withdrawal Reactions The continued use of benzodiazepines, including diazepam, may lead to clinically significant physical dependence. Abrupt discontinuation or rapid dosage reduction of diazepam tablets after continued use, or administration of flumazenil (a benzodiazepine antagonist) may precipitate acute withdrawal reactions, which can be life-threatening (e.g., seizures) (see DRUG ABUSE AND DEPENDENCE: Dependence ). Protracted Withdrawal Syndrome In some cases, benzodiazepine users have developed a protracted withdrawal syndrome with withdrawal symptoms lasting weeks to more than 12 months (see DRUG ABUSE AND DEPENDENCE: Dependence ). Diazepam is not recommended in the treatment of psychotic patients and should not be employed instead of appropriate treatment. Since diazepam has a central nervous system depressant effect, patients should be advised against the simultaneous ingestion of alcohol and other CNS-depressant drugs during diazepam therapy. As with other agents which have anticonvulsant activity, when diazepam is used as an adjunct in treating convulsive disorders, the possibility of an increase in the frequency and/or severity of grand mal seizures may require an increase in the dosage of standard anticonvulsant medication. Abrupt withdrawal of diazepam in such cases may also be associated with a temporary increase in the frequency and/or severity of seizures. Pregnancy An increased risk of congenital malformations and other developmental abnormalities associated with the use of benzodiazepine drugs during pregnancy has been suggested. There may also be non-teratogenic risks associated with the use of benzodiazepines during pregnancy. There have been reports of neonatal flaccidity, respiratory and feeding difficulties, and hypothermia in children born to mothers who have been receiving benzodiazepines late in pregnancy. In addition, children born to mothers receiving benzodiazepines on a regular basis late in pregnancy may be at some risk of experiencing withdrawal symptoms during the postnatal period. Diazepam has been shown to be teratogenic in mice and hamsters when given orally at daily doses of 100 mg/kg or greater (approximately eight times the maximum recommended human dose [MRHD=1 mg/kg/day] or greater on a mg/m 2 basis). Cleft palate and encephalopathy are the most common and consistently reported malformations produced in these species by administration of high, maternally toxic doses of diazepam during organogenesis. Rodent studies have indicated that prenatal exposure to diazepam doses similar to those used clinically can produce long-term changes in cellular immune responses, brain neurochemistry, and behavior. In general, the use of diazepam in women of childbearing potential, and more specifically during known pregnancy, should be considered only when the clinical situation warrants the risk to the fetus. The possibility that a woman of childbearing potential may be pregnant at the time of institution of therapy should be considered. If this drug is used during pregnancy, or if the patient becomes pregnant while taking this drug, the patient should be apprised of the potential hazard to the fetus. Patients should also be advised that if they become pregnant during therapy or intend to become pregnant they should communicate with their physician about the desirability of discontinuing the drug. Labor and Delivery Special care must be taken when diazepam is used during labor and delivery, as high single doses may produce irregularities in the fetal heart rate and hypotonia, poor sucking, hypothermia, and moderate respiratory depression in the neonates. With newborn infants it must be remembered that the enzyme system involved in the breakdown of the drug is not yet fully developed (especially in premature infants). Nursing Mothers Diazepam passes into breast milk. Breastfeeding is therefore not recommended in patients receiving diazepam.\"], 'pregnancy': ['Pregnancy An increased risk of congenital malformations and other developmental abnormalities associated with the use of benzodiazepine drugs during pregnancy has been suggested. There may also be non-teratogenic risks associated with the use of benzodiazepines during pregnancy. There have been reports of neonatal flaccidity, respiratory and feeding difficulties, and hypothermia in children born to mothers who have been receiving benzodiazepines late in pregnancy. In addition, children born to mothers receiving benzodiazepines on a regular basis late in pregnancy may be at some risk of experiencing withdrawal symptoms during the postnatal period. Diazepam has been shown to be teratogenic in mice and hamsters when given orally at daily doses of 100 mg/kg or greater (approximately eight times the maximum recommended human dose [MRHD=1 mg/kg/day] or greater on a mg/m 2 basis). Cleft palate and encephalopathy are the most common and consistently reported malformations produced in these species by administration of high, maternally toxic doses of diazepam during organogenesis. Rodent studies have indicated that prenatal exposure to diazepam doses similar to those used clinically can produce long-term changes in cellular immune responses, brain neurochemistry, and behavior. In general, the use of diazepam in women of childbearing potential, and more specifically during known pregnancy, should be considered only when the clinical situation warrants the risk to the fetus. The possibility that a woman of childbearing potential may be pregnant at the time of institution of therapy should be considered. If this drug is used during pregnancy, or if the patient becomes pregnant while taking this drug, the patient should be apprised of the potential hazard to the fetus. Patients should also be advised that if they become pregnant during therapy or intend to become pregnant they should communicate with their physician about the desirability of discontinuing the drug.', 'Pregnancy Category D (see WARNINGS: Pregnancy ).'], 'labor_and_delivery': ['Labor and Delivery Special care must be taken when diazepam is used during labor and delivery, as high single doses may produce irregularities in the fetal heart rate and hypotonia, poor sucking, hypothermia, and moderate respiratory depression in the neonates. With newborn infants it must be remembered that the enzyme system involved in the breakdown of the drug is not yet fully developed (especially in premature infants).'], 'nursing_mothers': ['Nursing Mothers Diazepam passes into breast milk. Breastfeeding is therefore not recommended in patients receiving diazepam.'], 'precautions': ['PRECAUTIONS General If diazepam is to be combined with other psychotropic agents or anticonvulsant drugs, careful consideration should be given to the pharmacology of the agents to be employed - particularly with known compounds that may potentiate the action of diazepam, such as phenothiazines, narcotics, barbiturates, MAO inhibitors and other antidepressants (see Drug Interactions ). The usual precautions are indicated for severely depressed patients or those in whom there is any evidence of latent depression or anxiety associated with depression, particularly the recognition that suicidal tendencies may be present and protective measures may be necessary. Psychiatric and paradoxical reactions are known to occur when using benzodiazepines (see ADVERSE REACTIONS ). Should this occur, use of the drug should be discontinued. These reactions are more likely to occur in children and the elderly. A lower dose is recommended for patients with chronic respiratory insufficiency, due to the risk of respiratory depression. Benzodiazepines should be used with extreme caution in patients with a history of alcohol or drug abuse (see DRUG ABUSE AND DEPENDENCE ). In debilitated patients, it is recommended that the dosage be limited to the smallest effective amount to preclude the development of ataxia or oversedation (2 mg to 2.5 mg once or twice daily, initially, to be increased gradually as needed and tolerated). Some loss of response to the effects of benzodiazepines may develop after repeated use of diazepam for a prolonged time. Information for Patients Advise the patient to read the FDA-approved patient labeling (Medication Guide). Risks from Concomitant Use with Opioids Advise both patients and caregivers about the risks of potentially fatal respiratory depression and sedation when diazepam is used with opioids and not to use such drugs concomitantly unless supervised by a health care provider. Advise patients not to drive or operate heavy machinery until the effects of concomitant use with the opioid have been determined (see WARNINGS: Risks from Concomitant Use with Opioids and PRECAUTIONS: Drug Interactions ). Abuse, Misuse, and Addiction Inform patients that the use of diazepam tablets, even at recommended dosages, exposes users to risks of abuse, misuse, and addiction, which can lead to overdose and death, especially when used in combination with other medications (e.g., opioid analgesics), alcohol, and/or illicit substances. Inform patients about the signs and symptoms of benzodiazepine abuse, misuse, and addiction; to seek medical help if they develop these signs and/or symptoms; and on the proper disposal of unused drug (see WARNING : Abuse, Misuse, and Addiction and DRUG ABUSE AND DEPENDENCE ). Withdrawal Reactions Inform patients that the continued use of diazepam tablets may lead to clinically significant physical dependence and that abrupt discontinuation or rapid dosage reduction of diazepam tablets may precipitate acute withdrawal reactions, which can be life-threatening. Inform patients that in some cases, patients taking benzodiazepines have developed a protracted withdrawal syndrome with withdrawal symptoms lasting weeks to more than 12 months. Instruct patients that discontinuation or dosage reduction of diazepam tablets may require a slow taper (see WARNINGS: Dependence and Withdrawal Reactions and DRUG ABUSE AND DEPENDENCE ). Patients should be advised against the simultaneous ingestion of alcohol and other CNS-depressant drugs during diazepam therapy. As is true of most CNS-acting drugs, patients receiving diazepam should be cautioned against engaging in hazardous occupations requiring complete mental alertness, such as operating machinery or driving a motor vehicle. Drug Interactions Opioids The concomitant use of benzodiazepines and opioids increases the risk of respiratory depression because of actions at different receptor sites in the CNS that control respiration. Benzodiazepines interact at GABA A sites and opioids interact primarily at mu receptors. When benzodiazepines and opioids are combined, the potential for benzodiazepines to significantly worsen opioid-related respiratory depression exists. Limit dosage and duration of concomitant use of benzodiazepines and opioids, and monitor patients closely for respiratory depression and sedation. Centrally Acting Agents If diazepam is to be combined with other centrally acting agents, careful consideration should be given to the pharmacology of the agents employed particularly with compounds that may potentiate or be potentiated by the action of diazepam, such as phenothiazines, antipsychotics, anxiolytics/sedatives, hypnotics, anticonvulsants, narcotic analgesics, anesthetics, sedative antihistamines, narcotics, barbiturates, MAO inhibitors and other antidepressants. Alcohol Concomitant use with alcohol is not recommended due to enhancement of the sedative effect. Antacids Diazepam peak concentrations are 30% lower when antacids are administered concurrently. However, there is no effect on the extent of absorption. The lower peak concentrations appear due to a slower rate of absorption, with the time required to achieve peak concentrations on average 20 - 25 minutes greater in the presence of antacids. However, this difference was not statistically significant. Compounds Which Inhibit Certain Hepatic Enzymes There is a potentially relevant interaction between diazepam and compounds which inhibit certain hepatic enzymes (particularly cytochrome P450 3A and 2C19). Data indicate that these compounds influence the pharmacokinetics of diazepam and may lead to increased and prolonged sedation. At present, this reaction is known to occur with cimetidine, ketoconazole, fluvoxamine, fluoxetine, and omeprazole. Phenytoin There have also been reports that the metabolic elimination of phenytoin is decreased by diazepam. Carcinogenesis, Mutagenesis, Impairment of Fertility In studies in which mice and rats were administered diazepam in the diet at a dose of 75 mg/kg/day (approximately 6 and 12 times, respectively, the maximum recommended human dose [MRHD=1 mg/kg/day] on a mg/m 2 basis) for 80 and 104 weeks, respectively, an increased incidence of liver tumors was observed in males of both species. The data currently available are inadequate to determine the mutagenic potential of diazepam. Reproduction studies in rats showed decreases in the number of pregnancies and in the number of surviving offspring following administration of an oral dose of 100 mg/kg/day (approximately 16 times the MRHD on a mg/m 2 basis) prior to and during mating and throughout gestation and lactation. No adverse effects on fertility or offspring viability were noted at a dose of 80 mg/kg/day (approximately 13 times the MRHD on a mg/m 2 basis). Pregnancy Category D (see WARNINGS: Pregnancy ). Pediatric Use Safety and effectiveness in pediatric patients below the age of 6 months have not been established. Geriatric Use In elderly patients, it is recommended that the dosage be limited to the smallest effective amount to preclude the development of ataxia or oversedation (2 mg to 2.5 mg once or twice daily, initially to be increased gradually as needed and tolerated). Extensive accumulation of diazepam and its major metabolite, desmethyldiazepam, has been noted following chronic administration of diazepam in healthy elderly male subjects. Metabolites of this drug are known to be substantially excreted by the kidney, and the risk of toxic reactions may be greater in patients with impaired renal function. Because elderly patients are more likely to have decreased renal function, care should be taken in dose selection, and it may be useful to monitor renal function. Hepatic Insufficiency Decreases in clearance and protein binding, and increases in volume of distribution and half-life has been reported in patients with cirrhosis. In such patients, a 2- to 5- fold increase in mean half-life has been reported. Delayed elimination has also been reported for the active metabolite desmethyldiazepam. Benzodiazepines are commonly implicated in hepatic encephalopathy. Increases in half-life have also been reported in hepatic fibrosis and in both acute and chronic hepatitis (see CLINICAL PHARMACOLOGY: Pharmacokinetics in Special Populations: Hepatic Insufficiency ).'], 'general_precautions': ['General If diazepam is to be combined with other psychotropic agents or anticonvulsant drugs, careful consideration should be given to the pharmacology of the agents to be employed - particularly with known compounds that may potentiate the action of diazepam, such as phenothiazines, narcotics, barbiturates, MAO inhibitors and other antidepressants (see Drug Interactions ). The usual precautions are indicated for severely depressed patients or those in whom there is any evidence of latent depression or anxiety associated with depression, particularly the recognition that suicidal tendencies may be present and protective measures may be necessary. Psychiatric and paradoxical reactions are known to occur when using benzodiazepines (see ADVERSE REACTIONS ). Should this occur, use of the drug should be discontinued. These reactions are more likely to occur in children and the elderly. A lower dose is recommended for patients with chronic respiratory insufficiency, due to the risk of respiratory depression. Benzodiazepines should be used with extreme caution in patients with a history of alcohol or drug abuse (see DRUG ABUSE AND DEPENDENCE ). In debilitated patients, it is recommended that the dosage be limited to the smallest effective amount to preclude the development of ataxia or oversedation (2 mg to 2.5 mg once or twice daily, initially, to be increased gradually as needed and tolerated). Some loss of response to the effects of benzodiazepines may develop after repeated use of diazepam for a prolonged time.'], 'information_for_patients': ['Information for Patients Advise the patient to read the FDA-approved patient labeling (Medication Guide).'], 'drug_interactions': ['Drug Interactions Opioids The concomitant use of benzodiazepines and opioids increases the risk of respiratory depression because of actions at different receptor sites in the CNS that control respiration. Benzodiazepines interact at GABA A sites and opioids interact primarily at mu receptors. When benzodiazepines and opioids are combined, the potential for benzodiazepines to significantly worsen opioid-related respiratory depression exists. Limit dosage and duration of concomitant use of benzodiazepines and opioids, and monitor patients closely for respiratory depression and sedation. Centrally Acting Agents If diazepam is to be combined with other centrally acting agents, careful consideration should be given to the pharmacology of the agents employed particularly with compounds that may potentiate or be potentiated by the action of diazepam, such as phenothiazines, antipsychotics, anxiolytics/sedatives, hypnotics, anticonvulsants, narcotic analgesics, anesthetics, sedative antihistamines, narcotics, barbiturates, MAO inhibitors and other antidepressants. Alcohol Concomitant use with alcohol is not recommended due to enhancement of the sedative effect. Antacids Diazepam peak concentrations are 30% lower when antacids are administered concurrently. However, there is no effect on the extent of absorption. The lower peak concentrations appear due to a slower rate of absorption, with the time required to achieve peak concentrations on average 20 - 25 minutes greater in the presence of antacids. However, this difference was not statistically significant. Compounds Which Inhibit Certain Hepatic Enzymes There is a potentially relevant interaction between diazepam and compounds which inhibit certain hepatic enzymes (particularly cytochrome P450 3A and 2C19). Data indicate that these compounds influence the pharmacokinetics of diazepam and may lead to increased and prolonged sedation. At present, this reaction is known to occur with cimetidine, ketoconazole, fluvoxamine, fluoxetine, and omeprazole. Phenytoin There have also been reports that the metabolic elimination of phenytoin is decreased by diazepam.'], 'carcinogenesis_and_mutagenesis_and_impairment_of_fertility': ['Carcinogenesis, Mutagenesis, Impairment of Fertility In studies in which mice and rats were administered diazepam in the diet at a dose of 75 mg/kg/day (approximately 6 and 12 times, respectively, the maximum recommended human dose [MRHD=1 mg/kg/day] on a mg/m 2 basis) for 80 and 104 weeks, respectively, an increased incidence of liver tumors was observed in males of both species. The data currently available are inadequate to determine the mutagenic potential of diazepam. Reproduction studies in rats showed decreases in the number of pregnancies and in the number of surviving offspring following administration of an oral dose of 100 mg/kg/day (approximately 16 times the MRHD on a mg/m 2 basis) prior to and during mating and throughout gestation and lactation. No adverse effects on fertility or offspring viability were noted at a dose of 80 mg/kg/day (approximately 13 times the MRHD on a mg/m 2 basis).'], 'pediatric_use': ['Pediatric Use Safety and effectiveness in pediatric patients below the age of 6 months have not been established.'], 'geriatric_use': ['Geriatric Use In elderly patients, it is recommended that the dosage be limited to the smallest effective amount to preclude the development of ataxia or oversedation (2 mg to 2.5 mg once or twice daily, initially to be increased gradually as needed and tolerated). Extensive accumulation of diazepam and its major metabolite, desmethyldiazepam, has been noted following chronic administration of diazepam in healthy elderly male subjects. Metabolites of this drug are known to be substantially excreted by the kidney, and the risk of toxic reactions may be greater in patients with impaired renal function. Because elderly patients are more likely to have decreased renal function, care should be taken in dose selection, and it may be useful to monitor renal function.'], 'adverse_reactions': ['ADVERSE REACTIONS Side effects most commonly reported were drowsiness, fatigue, muscle weakness, and ataxia. The following have also been reported: Central Nervous System: confusion, depression, dysarthria, headache, slurred speech, tremor, vertigo Gastrointestinal System: constipation, nausea, gastrointestinal disturbances Special Senses: blurred vision, diplopia, dizziness Cardiovascular System: hypotension Psychiatric and Paradoxical Reactions: stimulation, restlessness, acute hyperexcited states, anxiety, agitation, aggressiveness, irritability, rage, hallucinations, psychoses, delusions, increased muscle spasticity, insomnia, sleep disturbances, and nightmares. Inappropriate behavior and other adverse behavioral effects have been reported when using benzodiazepines. Should these occur, use of the drug should be discontinued. They are more likely to occur in children and in the elderly. Urogenital System: incontinence, changes in libido, urinary retention Skin and Appendages: skin reactions Laboratories: elevated transaminases and alkaline phosphatase Other: changes in salivation, including dry mouth, hypersalivation Antegrade amnesia may occur using therapeutic dosages, the risk increasing at higher dosages. Amnestic effects may be associated with inappropriate behavior. Minor changes in EEG patterns, usually low-voltage fast activity, have been observed in patients during and after diazepam therapy and are of no known significance. Because of isolated reports of neutropenia and jaundice, periodic blood counts and liver function tests are advisable during long-term therapy. Postmarketing Experience Injury, Poisoning and Procedural Complications There have been reports of falls and fractures in benzodiazepine users. The risk is increased in those taking concomitant sedatives (including alcohol), and in the elderly.'], 'drug_abuse_and_dependence': ['DRUG ABUSE AND DEPENDENCE Controlled Substance Diazepam is a Schedule IV controlled substance. Abuse Diazepam is a benzodiazepine and a CNS depressant with a potential for abuse and addiction. Abuse is the intentional, non-therapeutic use of a drug, even once, for its desirable psychological or physiological effects. Misuse is the intentional use, for therapeutic purposes, of a drug by an individual in a way other than prescribed by a health care provider or for whom it was not prescribed. Drug addiction is a cluster of behavioral, cognitive, and physiological phenomena that may include a strong desire to take the drug, difficulties in controlling drug use (e.g., continuing drug use despite harmful consequences, giving a higher priority to drug use than other activities and obligations), and possible tolerance or physical dependence. Even taking benzodiazepines as prescribed may put patients at risk for abuse and misuse of their medication. Abuse and misuse of benzodiazepines may lead to addiction. Abuse and misuse of benzodiazepines often (but not always) involve the use of doses greater than the maximum recommended dosage and commonly involve concomitant use of other medications, alcohol, and/or illicit substances, which is associated with an increased frequency of serious adverse outcomes, including respiratory depression, overdose, or death. Benzodiazepines are often sought by individuals who abuse drugs and other substances, and by individuals with addictive disorders (see WARNINGS: Abuse, Misuse, and Addiction ). The following adverse reactions have occurred with benzodiazepine abuse and/or misuse: abdominal pain, amnesia, anorexia, anxiety, aggression, ataxia, blurred vision, confusion, depression, disinhibition, disorientation, dizziness, euphoria, impaired concentration and memory, indigestion, irritability, muscle pain, slurred speech, tremors, and vertigo. The following severe adverse reactions have occurred with benzodiazepine abuse and/or misuse: delirium, paranoia, suicidal ideation and behavior, seizures, coma, breathing difficulty, and death. Death is more often associated with polysubstance use (especially benzodiazepines with other CNS depressants such as opioids and alcohol). Dependence Physical Dependence Diazepam may produce physical dependence from continued therapy. Physical dependence is a state that develops as a result of physiological adaptation in response to repeated drug use, manifested by withdrawal signs and symptoms after abrupt discontinuation or a significant dose reduction of a drug. Abrupt discontinuation or rapid dosage reduction of benzodiazepines or administration of flumazenil, a benzodiazepine antagonist, may precipitate acute withdrawal reactions, including seizures, which can be life-threatening. Patients at an increased risk of withdrawal adverse reactions after benzodiazepine discontinuation or rapid dosage reduction include those who take higher dosages (i.e., higher and/or more frequent doses), those who have had longer durations of use (see WARNINGS: Dependence and Withdrawal Reactions ). To reduce the risk of withdrawal reactions, use a gradual taper to discontinue diazepam tablets or reduce the dosage (see DOSAGE and ADMINISTRATION: Discontinuation or Dosage Reduction of Diazepam and WARNINGS: Dependence and Withdrawal Reactions ). Acute Withdrawal Signs and Symptoms Acute withdrawal signs and symptoms associated with benzodiazepines have included abnormal involuntary movements, anxiety, blurred vision, depersonalization, depression, derealization, dizziness, fatigue, gastrointestinal adverse reactions (e.g., nausea, vomiting, diarrhea, weight loss, decreased appetite), headache, hyperacusis, hypertension, irritability, insomnia, memory impairment, muscle pain and stiffness, panic attacks, photophobia, restlessness, tachycardia, and tremor. More severe acute withdrawal signs and symptoms, including life-threatening reactions, have included catatonia, convulsions, delirium tremens, depression, hallucinations, mania, psychosis, seizures, and suicidality. Protracted Withdrawal Syndrome Protracted withdrawal syndrome associated with benzodiazepines is characterized by anxiety, cognitive impairment, depression, insomnia, formication, motor symptoms (e.g., weakness, tremor, muscle twitches), paresthesia, and tinnitus that persists beyond 4 to 6 weeks after initial benzodiazepine withdrawal. Protracted withdrawal symptoms may last weeks to more than 12 months. As a result, there may be difficulty in differentiating withdrawal symptoms from potential re-emergence or continuation of symptoms for which the benzodiazepine was being used. Tolerance Tolerance to diazepam tablets may develop from continued therapy. Tolerance is a physiological state characterized by a reduced response to a drug after repeated administration (i.e., a higher dose of a drug is required to produce the same effect that was once obtained at a lower dose). Tolerance to the therapeutic effect of diazepam may develop; however, little tolerance develops to the amnestic reactions and other cognitive impairments caused by benzodiazepines.'], 'overdosage': ['OVERDOSAGE Overdose of benzodiazepines is usually manifested by central nervous system depression ranging from drowsiness to coma. In mild cases, symptoms include drowsiness, confusion, and lethargy. In more serious cases, symptoms may include ataxia, diminished reflexes, hypotonia, hypotension, respiratory depression, coma (rarely), and death (very rarely). Overdose of benzodiazepines in combination with other CNS depressants (including alcohol) may be fatal and should be closely monitored. Management of Overdosage Following overdose with oral benzodiazepines, general supportive measures should be employed including the monitoring of respiration, pulse, and blood pressure. Vomiting should be induced (within 1 hour) if the patient is conscious. Gastric lavage should be undertaken with the airway protected if the patient is unconscious. Intravenous fluids should be administered. If there is no advantage in emptying the stomach, activated charcoal should be given to reduce absorption. Special attention should be paid to respiratory and cardiac function in intensive care. General supportive measures should be employed, along with intravenous fluids, and an adequate airway maintained. Should hypotension develop, treatment may include intravenous fluid therapy, repositioning, judicious use of vasopressors appropriate to the clinical situation, if indicated, and other appropriate countermeasures. Dialysis is of limited value. As with the management of intentional overdosage with any drug, it should be considered that multiple agents may have been ingested. Flumazenil, a specific benzodiazepine-receptor antagonist, is indicated for the complete or partial reversal of the sedative effects of benzodiazepines and may be used in situations when an overdose with a benzodiazepine is known or suspected. Prior to the administration of flumazenil, necessary measures should be instituted to secure airway, ventilation and intravenous access. Flumazenil is intended as an adjunct to, not as a substitute for, proper management of benzodiazepine overdose. Patients treated with flumazenil should be monitored for resedation, respiratory depression and other residual benzodiazepine effects for an appropriate period after treatment. The prescriber should be aware of a risk of seizure in association with flumazenil treatment, particularly in long-term benzodiazepine users and in cyclic antidepressant overdose . Caution should be observed in the use of flumazenil in epileptic patients treated with benzodiazepines. The complete flumazenil package insert, including CONTRAINDICATIONS , WARNINGS , and PRECAUTIONS , should be consulted prior to use. Withdrawal symptoms of the barbiturate type have occurred after the discontinuation of benzodiazepines (see DRUG ABUSE AND DEPENDENCE ).'], 'dosage_and_administration': ['DOSAGE AND ADMINISTRATION Dosage should be individualized for maximum beneficial effect. While the usual daily dosages given below will meet the needs of most patients, there will be some who may require higher doses. In such cases dosage should be increased cautiously to avoid adverse effects. ADULTS: USUAL DAILY DOSE: Management of Anxiety Disorders and Relief of Symptoms of Anxiety. Depending upon severity of symptoms – 2 mg to 10 mg, 2 to 4 times daily Symptomatic Relief in Acute Alcohol Withdrawal. 10 mg, 3 or 4 times during the first 24 hours, reducing to 5 mg, 3 or 4 times daily as needed Adjunctively for Relief of Skeletal Muscle Spasm. 2 mg to 10 mg, 3 or 4 times daily Adjunctively in Convulsive Disorders 2 mg to 10 mg, 2 to 4 times daily Geriatric Patients, or in the presence of debilitating disease. 2 mg to 2.5 mg, 1 or 2 times daily initially; increase gradually as needed and tolerated PEDIATRIC PATIENTS: Because of varied responses to CNS-acting drugs, initiate therapy with lowest dose and increase as required. Not for use in pediatric patients under 6 months. 1 mg to 2.5 mg, 3 or 4 times daily initially; increase gradually as needed and tolerated Discontinuation or Dosage Reduction of Diazepam To reduce the risk of withdrawal reactions, use a gradual taper to discontinue diazepam tablets or reduce the dosage. If a patient develops withdrawal reactions, consider pausing the taper or increasing the dosage to the previous tapered dosage level. Subsequently decrease the dosage more slowly (see WARNINGS: Dependence and Withdrawal Reactions and DRUG ABUSE AND DEPENDENCE: Dependence ).'], 'dosage_and_administration_table': ['<table width=\"75%\"><col align=\"center\" valign=\"top\" width=\"50%\"/><col align=\"center\" valign=\"top\" width=\"50%\"/><thead><tr><th align=\"left\" styleCode=\"Lrule Rrule\"><content styleCode=\"italics\">ADULTS:</content></th><th align=\"left\" styleCode=\"Rrule\"><content styleCode=\"italics\">USUAL DAILY DOSE:</content></th></tr></thead><tbody><tr styleCode=\"Botrule\"><td styleCode=\"Lrule Rrule\"><content styleCode=\"italics\">Management of Anxiety Disorders and Relief of Symptoms of Anxiety.</content></td><td styleCode=\"Rrule\">Depending upon severity of symptoms &#x2013; 2 mg to 10 mg, 2 to 4 times daily</td></tr><tr styleCode=\"Botrule\"><td styleCode=\"Lrule Rrule\"><content styleCode=\"italics\">Symptomatic Relief in Acute Alcohol Withdrawal.</content></td><td styleCode=\"Rrule\">10 mg, 3 or 4 times during the first 24 hours, reducing to 5 mg, 3 or 4 times daily as needed</td></tr><tr styleCode=\"Botrule\"><td styleCode=\"Lrule Rrule\"><content styleCode=\"italics\">Adjunctively for Relief of Skeletal Muscle Spasm.</content></td><td styleCode=\"Rrule\">2 mg to 10 mg, 3 or 4 times daily</td></tr><tr styleCode=\"Botrule\"><td styleCode=\"Lrule Rrule\"><content styleCode=\"italics\">Adjunctively in Convulsive Disorders</content></td><td styleCode=\"Rrule\">2 mg to 10 mg, 2 to 4 times daily</td></tr><tr styleCode=\"Botrule\"><td styleCode=\"Lrule Rrule\"><content styleCode=\"italics\">Geriatric Patients, or in the presence of debilitating disease.</content></td><td styleCode=\"Rrule\">2 mg to 2.5 mg, 1 or 2 times daily initially; increase gradually as needed and tolerated</td></tr><tr styleCode=\"Botrule\"><td styleCode=\"Lrule Rrule\"><content styleCode=\"italics\">PEDIATRIC PATIENTS:</content></td><td styleCode=\"Rrule\"/></tr><tr><td styleCode=\"Lrule Rrule\">Because of varied responses to CNS-acting drugs, initiate therapy with lowest dose and increase as required. Not for use in pediatric patients under 6 months.</td><td styleCode=\"Rrule\">1 mg to 2.5 mg, 3 or 4 times daily initially; increase gradually as needed and tolerated</td></tr></tbody></table>'], 'how_supplied': ['HOW SUPPLIED Diazepam Tablets USP 5 mg are yellow, flat-faced, bevel edge, bisected tablets imprinted MYX/942 on one side and 5 imprinted on the other side. NDC: 71335-2197-1: 12 Tablets in a BOTTLE NDC: 71335-2197-2: 15 Tablets in a BOTTLE NDC: 71335-2197-3: 20 Tablets in a BOTTLE NDC: 71335-2197-4: 30 Tablets in a BOTTLE NDC: 71335-2197-5: 60 Tablets in a BOTTLE NDC: 71335-2197-6: 90 Tablets in a BOTTLE NDC: 71335-2197-7: 10 Tablets in a BOTTLE NDC: 71335-2197-8: 2 Tablets in a BOTTLE NDC: 71335-2197-9: 1 Tablets in a BOTTLE NDC: 71335-2197-0: 120 Tablets in a BOTTLE Repackaged/Relabeled by: Bryant Ranch Prepack, Inc. Burbank, CA 91504'], 'spl_medguide': ['MEDICATION GUIDE DIAZEPAM (dye az\\' e pam) TABLETS, C-IV What is the most important information I should know about Diazepam Tablets? Diazepam tablets are a benzodiazepine medicine. Taking benzodiazepines with opioid medicines, alcohol, or other central nervous system (CNS) depressants (including street drugs) can cause severe drowsiness, breathing problems (respiratory depression), coma and death. Get emergency help right away if any of the following happens: Shallow or slowed breathing, Breathing stops (which may lead to the heart stopping), Excessive sleepiness (sedation) Do not drive or operate heavy machinery until you know how taking diazepam with opioids affects you. Risk of abuse, misuse, and addiction. There is a risk of abuse, misuse, and addiction with benzodiazepines, including diazepam, which can lead to overdose and serious side effects including coma and death. Serious side effects including coma and death have happened in people who have abused or misused benzodiazepines, including diazepam. These serious side effects may also cause delirium, paranoia, suicidal thoughts or actions, seizures, and difficulty breathing. Call your healthcare provider or go to the nearest hospital emergency room right away if you get any of these serious side effects. You can develop an addiction even if you take diazepam tablets exactly as prescribed by your healthcare provider . Take diazepam tablets exactly as your healthcare provider prescribed. Do not share your diazepam tablets with other people . Keep diazepam tablets in a safe place and away from children. Physical dependence and withdrawal reactions. Diazepam tablets can cause physical dependence and withdrawal reactions. Do not suddenly stop taking diazepam tablets. Stopping diazepam tablets suddenly can cause serious and life- threatening side effects, including, unusual movements, responses, or expressions, seizures, sudden and severe mental or nervous system changes, depression, seeing or hearing things that others do not see or hear, an extreme increase in activity or talking, losing touch with reality, and suicidal thoughts or actions. Call your healthcare provider or go to the nearest hospital emergency room right away if you get any of these symptoms. Some people who suddenly stop benzodiazepines have symptoms that can last for several weeks to more than 12 months, including, anxiety, trouble remembering, learning, or concentrating, depression, problems sleeping, feeling like insects are crawling under your skin, weakness, shaking, muscle twitching, burning or prickling feeling in your hands, arms, legs or feet, and ringing in your ears. Physical dependence is not the same as drug addiction. Your healthcare provider can tell you more about the differences between physical dependence and drug addiction. Do not take more diazepam tablets than prescribed or take diazepam tablets for longer than prescribed. What are diazepam tablets? Diazepam tablets are a prescription medicine used: to treat anxiety disorders for the short-term relief of the symptoms of anxiety to relieve the symptoms of alcohol withdrawal including agitation, shakiness (tremor), sudden and severe mental or nervous system changes (delirium tremens) and seeing or hearing things that others do not see or hear (hallucinations) along with other medicines for the relief of muscle spasms along with other medicines to treat seizure disorders Diazepam tablets are a federal controlled substance (C-IV) because it contains diazepam that can be abused or lead to dependence. Keep diazepam tablets in a safe place to prevent misuse and abuse. Selling or giving away diazepam tablets may harm others, and is against the law. Tell your healthcare provider if you have abused or been dependent on alcohol, prescription medicines or street drugs. It is not known if diazepam tablets are safe and effective in children under 6 months of age. It is not known if diazepam tablets are safe and effective for use longer than 4 months. Do not take diazepam tablets if you: are allergic to diazepam or any of the ingredients in diazepam tablets. See the end of this Medication Guide for a complete list of ingredients in diazepam tablets. have a disease that can cause muscle weakness called myasthenia gravis have severe breathing problems (severe respiratory insufficiency) have severe liver problems have a sleep problem called sleep apnea syndrome Before you take diazepam tablets, tell your healthcare provider about all of your medical conditions, including if you: have or have had depression, mood problems, or suicidal thoughts or behavior have lung disease or breathing problems have liver or kidney problems are pregnant or plan to become pregnant. Diazepam tablets may harm your unborn baby. You and your healthcare provider should decide if you should take diazepam tablets while you are pregnant. are breastfeeding or plan to breastfeed. Diazepam passes into your breast milk and may harm your baby. Talk to your healthcare provider about the best way to feed your baby if you take diazepam tablets. Do not breastfeed while taking diazepam tablets. Tell your healthcare provider about all the medicines you take, including prescription and over-the-counter medicines, vitamins, and herbal supplements. Taking diazepam tablets with certain other medicines can cause side effects or affect how well diazepam tablets or the other medicines work. Do not start or stop other medicines without talking to your healthcare provider. How should I take diazepam tablets? Take diazepam tablets exactly as your healthcare provider tells you to take it. Your healthcare provider will tell you how much diazepam tablets to take and when to take it. Talk to your healthcare provider about slowly stopping diazepam tablets to avoid withdrawal symptoms. If you take too much diazepam tablets, call your healthcare provider or go to the nearest hospital emergency room right away. What are the possible side effects of diazepam tablets? Diazepam tablets may cause serious side effects, including: See \" What is the most important information I should know about diazepam tablets? \" Seizures. Taking diazepam tablets with other medicines used to treat epilepsy can cause an increase in the number or severity of grand mal seizures. Diazepam tablets can make you sleepy or dizzy, and can slow your thinking or motor skills. Do not drive, operate heavy machinery, or do other dangerous activities until you know how diazepam tablets affect you. Do not drink alcohol or take other drugs that may make you sleepy or dizzy while taking diazepam tablets without first talking to your healthcare provider. When taken with alcohol or drugs that cause sleepiness or dizziness, diazepam tablets may make your sleepiness or dizziness much worse. Like other antiepileptic drugs, diazepam tablets may cause suicidal thoughts or actions in a very small number of people, about 1 in 500. Call your healthcare provider right away if you have any of these symptoms, especially if they are new, worse, or worry you: thoughts about suicide or dying trouble sleeping (insomnia) acting on dangerous impulses attempts to commit suicide feeling agitated or restless new or worse anxiety or irritability an extreme increase in activity and talking (mania) new or worse depression new or worse panic attacks acting aggressive, being angry, or violent other unusual changes in behavior or mood How can I watch for early symptoms of suicidal thoughts and actions? Pay attention to any changes, especially sudden changes, in mood, behaviors, thoughts, or feelings. Keep all follow-up visits with your healthcare provider as scheduled. Call your healthcare provider between visits as needed, especially if you are worried about symptoms. Suicidal thoughts or actions can be caused by things other than medicines. If you have suicidal thoughts or actions, your healthcare provider may check for other causes. The most common side effects of diazepam tablets include: drowsiness muscle weakness fatigue loss of control of body movements (ataxia) These are not all the possible side effects of diazepam tablets. Call your doctor for medical advice about side effects. You may report side effects to FDA at 1-800-FDA-1088. You may also report side effects to Mayne Pharma at 1-844-825-8500. How should I store diazepam tablets? Store diazepam tablets in a tightly closed container between 68°F to 77°F (20°C to 25°C) and out of the light. Keep diazepam tablets and all medicines out of the reach of children . General information about the safe and effective use of diazepam tablets. Medicines are sometimes prescribed for purposes other than those listed in a Medication Guide. Do not use diazepam tablets for a condition for which it was not prescribed. Do not give diazepam tablets to other people, even if they have the same symptoms that you have. It may harm them. You can ask your pharmacist or healthcare provider for information about diazepam tablets that is written for health professionals. What are the ingredients in diazepam tablets? Active ingredient: diazepam Inactive ingredients: anhydrous lactose, magnesium stearate, and microcrystalline cellulose. The 5 mg tablets also contain D&C Yellow No. 10 and the 10 mg tablets also contain FD&C Blue No. 1. Medication Guides available at products.maynepharma.com or call 1-844-825-8500 Manufactured by: Mayne Pharma Greenville, NC 27834 This Medication Guide has been approved by the U.S. Food and Drug Administration Revised: 03/2021'], 'spl_medguide_table': ['<table width=\"100%\"><col width=\"4%\" align=\"left\" valign=\"top\"/><col width=\"29%\" align=\"left\" valign=\"top\"/><col width=\"13%\" align=\"left\" valign=\"top\"/><col width=\"20%\" align=\"left\" valign=\"top\"/><col width=\"34%\" align=\"left\" valign=\"top\"/><thead><tr><th align=\"center\" colspan=\"5\" styleCode=\"Lrule Rrule\">MEDICATION GUIDE   DIAZEPAM (dye az&apos; e pam) TABLETS, C-IV </th></tr></thead><tbody><tr><td colspan=\"5\" styleCode=\"Lrule Rrule\"><content styleCode=\"bold\">What is the most important information I should know about Diazepam Tablets?</content><list listType=\"unordered\"><item><content styleCode=\"bold\">Diazepam tablets are a benzodiazepine medicine. Taking benzodiazepines with opioid medicines, alcohol, or other central nervous system (CNS) depressants (including street drugs) can cause severe drowsiness, breathing problems (respiratory depression), coma and death.</content>Get emergency help right away if any of the following happens: <list listType=\"unordered\" styleCode=\"Circle\"><item><content styleCode=\"bold\">Shallow or slowed breathing,</content></item><item><content styleCode=\"bold\">Breathing stops (which may lead to the heart stopping),</content></item><item><content styleCode=\"bold\">Excessive sleepiness (sedation)</content></item></list><content styleCode=\"bold\">Do not drive or operate heavy machinery until you know how taking diazepam with opioids affects you.</content></item><item><content styleCode=\"bold\">Risk of abuse, misuse, and addiction.</content>There is a risk of abuse, misuse, and addiction with benzodiazepines, including diazepam, which can lead to overdose and serious side effects including coma and death. <list listType=\"unordered\" styleCode=\"Circle\"><item><content styleCode=\"bold\">Serious side effects including coma and death have happened in people who have abused or misused benzodiazepines, including diazepam.</content>These serious side effects may also cause delirium, paranoia, suicidal thoughts or actions, seizures, and difficulty breathing. <content styleCode=\"bold\">Call your healthcare provider or go to the nearest hospital emergency room right away if you get any of these serious side effects.</content></item><item><content styleCode=\"bold\">You can develop an addiction even if you take diazepam tablets exactly as prescribed by your healthcare provider</content>. </item><item><content styleCode=\"bold\">Take diazepam tablets exactly as your healthcare provider prescribed.</content></item><item>Do not share your diazepam tablets with other people <content styleCode=\"bold\">.</content></item><item>Keep diazepam tablets in a safe place and away from children.</item></list></item></list><content styleCode=\"bold\">Physical dependence and withdrawal reactions.</content>Diazepam tablets can cause physical dependence and withdrawal reactions. </td></tr><tr styleCode=\"Botrule\"><td styleCode=\"Lrule\"/><td colspan=\"4\" styleCode=\"Rrule\"><list listType=\"unordered\" styleCode=\"Circle\"><item><content styleCode=\"bold\">Do not suddenly stop taking diazepam tablets.</content>Stopping diazepam tablets suddenly can cause serious and life- threatening side effects, including, unusual movements, responses, or expressions, seizures, sudden and severe mental or nervous system changes, depression, seeing or hearing things that others do not see or hear, an extreme increase in activity or talking, losing touch with reality, and suicidal thoughts or actions.  <content styleCode=\"bold\">Call your healthcare provider or go to the nearest hospital emergency room right away if you get any of these symptoms.</content></item><item><content styleCode=\"bold\">Some people who suddenly stop benzodiazepines have symptoms that can last for several weeks to more than 12 months,</content>including, anxiety, trouble remembering, learning, or concentrating, depression, problems sleeping, feeling like insects are crawling under your skin, weakness, shaking, muscle twitching, burning or prickling feeling in your hands, arms, legs or feet, and ringing in your ears. </item><item>Physical dependence is not the same as drug addiction. Your healthcare provider can tell you more about the differences between physical dependence and drug addiction.</item><item>Do not take more diazepam tablets than prescribed or take diazepam tablets for longer than prescribed.</item></list></td></tr><tr styleCode=\"Botrule\"><td colspan=\"5\" styleCode=\"Lrule Rrule\"><content styleCode=\"bold\">What are diazepam tablets?</content><list listType=\"unordered\"><item>Diazepam tablets are a prescription medicine used: <list listType=\"unordered\" styleCode=\"Circle\"><item>to treat anxiety disorders</item><item>for the short-term relief of the symptoms of anxiety</item><item>to relieve the symptoms of alcohol withdrawal including agitation, shakiness (tremor), sudden and severe mental or nervous system changes (delirium tremens) and seeing or hearing things that others do not see or hear (hallucinations)</item><item>along with other medicines for the relief of muscle spasms</item><item>along with other medicines to treat seizure disorders</item></list></item><item><content styleCode=\"bold\">Diazepam tablets are a federal controlled substance (C-IV) because it contains diazepam that can be abused or lead to dependence.</content>Keep diazepam tablets in a safe place to prevent misuse and abuse. Selling or giving away diazepam tablets may harm others, and is against the law. Tell your healthcare provider if you have abused or been dependent on alcohol, prescription medicines or street drugs. </item><item>It is not known if diazepam tablets are safe and effective in children under 6 months of age.</item><item>It is not known if diazepam tablets are safe and effective for use longer than 4 months.</item></list></td></tr><tr styleCode=\"Botrule\"><td colspan=\"5\" styleCode=\"Lrule Rrule\"><content styleCode=\"bold\">Do not take diazepam tablets if you:</content><list listType=\"unordered\"><item>are allergic to diazepam or any of the ingredients in diazepam tablets. See the end of this Medication Guide for a complete list of ingredients in diazepam tablets.</item><item>have a disease that can cause muscle weakness called myasthenia gravis</item><item>have severe breathing problems (severe respiratory insufficiency)</item><item>have severe liver problems</item><item>have a sleep problem called sleep apnea syndrome</item></list></td></tr><tr styleCode=\"Botrule\"><td colspan=\"5\" styleCode=\"Lrule Rrule\"><content styleCode=\"bold\">Before you take diazepam tablets, tell your healthcare provider about all of your medical conditions, including if you:</content><list listType=\"unordered\"><item>have or have had depression, mood problems, or suicidal thoughts or behavior</item><item>have lung disease or breathing problems</item><item>have liver or kidney problems</item><item>are pregnant or plan to become pregnant. Diazepam tablets may harm your unborn baby. You and your healthcare provider should decide if you should take diazepam tablets while you are pregnant.</item><item>are breastfeeding or plan to breastfeed. Diazepam passes into your breast milk and may harm your baby. Talk to your healthcare provider about the best way to feed your baby if you take diazepam tablets. Do not breastfeed while taking diazepam tablets.</item></list><content styleCode=\"bold\">Tell your healthcare provider about all the medicines you take,</content>including prescription and over-the-counter medicines, vitamins, and herbal supplements.   Taking diazepam tablets with certain other medicines can cause side effects or affect how well diazepam tablets or the other medicines work. Do not start or stop other medicines without talking to your healthcare provider. </td></tr><tr styleCode=\"Botrule\"><td colspan=\"5\" styleCode=\"Lrule Rrule\"><content styleCode=\"bold\">How should I take diazepam tablets?</content><list listType=\"unordered\"><item>Take diazepam tablets exactly as your healthcare provider tells you to take it. Your healthcare provider will tell you how much diazepam tablets to take and when to take it.</item><item>Talk to your healthcare provider about slowly stopping diazepam tablets to avoid withdrawal symptoms.</item><item>If you take too much diazepam tablets, call your healthcare provider or go to the nearest hospital emergency room right away.</item></list></td></tr><tr><td colspan=\"5\" styleCode=\"Lrule Rrule\"><content styleCode=\"bold\">What are the possible side effects of diazepam tablets?   Diazepam tablets may cause serious side effects, including: </content><list listType=\"unordered\"><item><content styleCode=\"bold\">See &quot; <linkHtml href=\"#whatis\">What is the most important information I should know about diazepam tablets?</linkHtml>&quot; </content></item><item><content styleCode=\"bold\">Seizures.</content>Taking diazepam tablets with other medicines used to treat epilepsy can cause an increase in the number or severity of grand mal seizures. </item><item><content styleCode=\"bold\">Diazepam tablets can make you sleepy or dizzy, and can slow your thinking or motor skills.</content><list listType=\"unordered\" styleCode=\"Circle\"><item>Do not drive, operate heavy machinery, or do other dangerous activities until you know how diazepam tablets affect you.</item><item><content styleCode=\"bold\">Do not drink alcohol or take other drugs that may make you sleepy or dizzy while taking diazepam tablets without first talking to your healthcare provider.</content>When taken with alcohol or drugs that cause sleepiness or dizziness, diazepam tablets may make your sleepiness or dizziness much worse. </item></list></item><item><content styleCode=\"bold\">Like other antiepileptic drugs, diazepam tablets may cause suicidal thoughts or actions in a very small number of people, about 1 in 500.</content></item></list><content styleCode=\"bold\">Call your healthcare provider right away if you have any of these symptoms, especially if they are new, worse, or worry you:</content></td></tr><tr><td colspan=\"2\" styleCode=\"Lrule\" valign=\"middle\"><list listType=\"unordered\" styleCode=\"Circle\"><item>thoughts about suicide or dying</item><item>trouble sleeping (insomnia)</item><item>acting on dangerous impulses</item></list></td><td colspan=\"2\"><list listType=\"unordered\" styleCode=\"Circle\"><item>attempts to commit suicide</item><item>feeling agitated or restless</item><item>new or worse anxiety or irritability</item><item>an extreme increase in activity and talking (mania)</item></list></td><td styleCode=\"Rrule\"><list listType=\"unordered\" styleCode=\"Circle\"><item>new or worse depression</item><item>new or worse panic attacks</item><item>acting aggressive, being angry, or violent</item><item>other unusual changes in behavior or mood</item></list></td></tr><tr><td colspan=\"5\" styleCode=\"Lrule Rrule\"><content styleCode=\"bold\">How can I watch for early symptoms of suicidal thoughts and actions?</content><list listType=\"unordered\"><item>Pay attention to any changes, especially sudden changes, in mood, behaviors, thoughts, or feelings.</item><item>Keep all follow-up visits with your healthcare provider as scheduled.</item></list>Call your healthcare provider between visits as needed, especially if you are worried about symptoms. Suicidal thoughts or actions can be caused by things other than medicines. If you have suicidal thoughts or actions, your healthcare provider may check for other causes.  <content styleCode=\"bold\">The most common side effects of diazepam tablets include:</content></td></tr><tr><td styleCode=\"Lrule\"/><td><list listType=\"unordered\"><item>drowsiness</item><item>muscle weakness</item></list></td><td/><td colspan=\"2\" styleCode=\"Rrule\"><list listType=\"unordered\"><item>fatigue</item><item>loss of control of body movements (ataxia)</item></list></td></tr><tr styleCode=\"Botrule\"><td colspan=\"5\" styleCode=\"Lrule Rrule\">These are not all the possible side effects of diazepam tablets. Call your doctor for medical advice about side effects. You may report side effects to FDA at 1-800-FDA-1088. You may also report side effects to Mayne Pharma at 1-844-825-8500.</td></tr><tr styleCode=\"Botrule\"><td colspan=\"5\" styleCode=\"Lrule Rrule\"><content styleCode=\"bold\">How should I store diazepam tablets?</content><list listType=\"unordered\"><item>Store diazepam tablets in a tightly closed container between 68&#xB0;F to 77&#xB0;F (20&#xB0;C to 25&#xB0;C) and out of the light.</item><item>Keep diazepam tablets and all medicines out of the reach of children <content styleCode=\"bold\">.</content></item></list></td></tr><tr styleCode=\"Botrule\"><td colspan=\"5\" styleCode=\"Lrule Rrule\"><content styleCode=\"bold\">General information about the safe and effective use of diazepam tablets.</content>  Medicines are sometimes prescribed for purposes other than those listed in a Medication Guide. Do not use diazepam tablets for a condition for which it was not prescribed. Do not give diazepam tablets to other people, even if they have the same symptoms that you have. It may harm them. You can ask your pharmacist or healthcare provider for information about diazepam tablets that is written for health professionals. </td></tr><tr styleCode=\"Botrule\"><td colspan=\"5\" styleCode=\"Lrule Rrule\"><content styleCode=\"bold\">What are the ingredients in diazepam tablets?</content> <content styleCode=\"bold\">Active ingredient:</content>diazepam  <content styleCode=\"bold\">Inactive ingredients:</content>anhydrous lactose, magnesium stearate, and microcrystalline cellulose. The 5 mg tablets also contain D&amp;C Yellow No. 10 and the 10 mg tablets also contain FD&amp;C Blue No. 1.   Medication Guides available at products.maynepharma.com or call 1-844-825-8500   Manufactured by:   Mayne Pharma   Greenville, NC 27834 </td></tr></tbody></table>'], 'package_label_principal_display_panel': ['Diazepam 5mg (CIV) Tablet Label'], 'set_id': '1a71582e-ffca-481f-bf90-4f26ae2c8760', 'id': 'a53f82fa-2b99-4989-b4ca-fa931142443e', 'effective_time': '20240807', 'version': '104', 'openfda': {'application_number': ['ANDA071135'], 'brand_name': ['Diazepam'], 'generic_name': ['DIAZEPAM'], 'manufacturer_name': ['Bryant Ranch Prepack'], 'product_ndc': ['71335-2197'], 'product_type': ['HUMAN PRESCRIPTION DRUG'], 'route': ['ORAL'], 'substance_name': ['DIAZEPAM'], 'rxcui': ['197591'], 'spl_id': ['a53f82fa-2b99-4989-b4ca-fa931142443e'], 'spl_set_id': ['1a71582e-ffca-481f-bf90-4f26ae2c8760'], 'package_ndc': ['71335-2197-1', '71335-2197-2', '71335-2197-3', '71335-2197-4', '71335-2197-5', '71335-2197-6', '71335-2197-7', '71335-2197-8', '71335-2197-9', '71335-2197-0'], 'original_packager_product_ndc': ['51862-942'], 'nui': ['N0000175694', 'M0002356'], 'pharm_class_epc': ['Benzodiazepine [EPC]'], 'pharm_class_cs': ['Benzodiazepines [CS]'], 'unii': ['Q3JTX2Q7TU']}}]}\n",
      "{'meta': {'disclaimer': 'Do not rely on openFDA to make decisions regarding medical care. While we make every effort to ensure that data is accurate, you should assume all results are unvalidated. We may limit or otherwise restrict your access to the API in line with our Terms of Service.', 'terms': 'https://open.fda.gov/terms/', 'license': 'https://open.fda.gov/license/', 'last_updated': '2024-11-01', 'results': {'skip': 0, 'limit': 1, 'total': 2}}, 'results': [{'spl_product_data_elements': ['Ferrous Sulfate Ferrous Sulfate CROSCARMELLOSE SODIUM DIBASIC CALCIUM PHOSPHATE DIHYDRATE FD&C RED NO. 40 FD&C YELLOW NO. 6 HYPROMELLOSES MAGNESIUM STEARATE CELLULOSE, MICROCRYSTALLINE POLYETHYLENE GLYCOL 400 TITANIUM DIOXIDE FERROUS SULFATE FERROUS CATION'], 'spl_unclassified_section': ['SAVE CARTON FOR COMPLETE PRODUCT INFORMATION Supplement Facts % Daily Value Iron (as ferrous sulfate) 65 mg 360%'], 'spl_unclassified_section_table': ['<table frame=\"void\" width=\"830\"> <caption> Supplement Facts</caption> <thead> <tr> <td align=\"left\" styleCode=\"Botrule Lrule Rrule Toprule\" valign=\"top\"/> <td align=\"left\" styleCode=\"Botrule Lrule Rrule Toprule\" valign=\"top\"> <content styleCode=\"bold\">% Daily Value</content> </td> </tr> </thead> <tbody> <tr> <td align=\"left\" styleCode=\"Botrule Lrule Rrule Toprule\" valign=\"top\">Iron (as ferrous sulfate) 65 mg</td> <td align=\"left\" styleCode=\"Botrule Lrule Rrule Toprule\" valign=\"top\">360%</td> </tr> </tbody> </table>'], 'indications_and_usage': ['SUGGESTED USE:'], 'purpose': ['Adults: One (1) tablet daily, preferably after meals or as directed by the doctor. Children: As directed by the doctor.'], 'active_ingredient': ['EACH TABLET CONTAINS: % U.S. RDA* Elemental Iron 65 mg (Equivalent to 325 mg of Ferrous Sulfate) 60 *U.S. Recommended Daily Allowance'], 'inactive_ingredient': ['INACTIVE INGREDIENTS: croscarmellose sodium, dicalcium phosphate, FD&C red #40 (Al-lake), FD&C yellow #6 (Al-lake), hypromellose, magnesium stearate, microcrystalline cellulose, PEG 400, titanium dioxide'], 'boxed_warning': ['WARNING: Accidental overdose of iron-containing products is a leading cause of fatal poisoning in children under 6. Keep this product out of reach of children. In case of accidental overdose, call a doctor or Poison Control Center immediately.'], 'warnings': ['WARNINGS: Do not exceed recommended dosage. The treatment of any anemic condition should be under the advice and supervision of a doctor. Occasional gastrointestinal discomfort (such as nausea) may be minimized by taking with meals. Iron-containing medication may occasionally cause constipation or diarrhea. As with any drug, if you are pregnant or nursing a baby, seek the advice of a health professional before using this product.'], 'dosage_and_administration': ['DRUG INTERACTION PRECAUTION: Since oral iron products interfere with absorption of oral tetracycline antibiotics, these products should not be taken within two hours of each other.'], 'keep_out_of_reach_of_children': ['OTHER INFORMATION: Each tablet contains: calcium 20 mg (2% Daily value) Store in a dry place at controlled room temperature at 15°-30°C (59°-86°F). Do not expose to excessive heat or moisture.'], 'questions': ['QUESTIONS OR COMMENTS? call 804-270-4498 , 8:30 am - 4:30 pm ET, Monday – Friday TAMPER EVIDENT: DO NOT USE IF A BLISTER PACKAGE UNIT IS TORN, BROKEN OR SHOW ANY SIGN OF TAMPERING *Richmond Pharmaceuticals, Inc. is not affiliated with the owner of the registered trademark FEOSOL®. Distributed by: Richmond Pharmaceuticals, Inc., Richmond, VA 23233, USA CR1210 Principle Display Panel NDC 54738-963-13 Compare to Active Ingredient in Feosol ®* Ferrous Sulfate Tablets 325 mg (5 gr) Red Iron Supplement 100 Tablets (25x4) UNIT DOSE Richmond Pharmaceuticals, Inc. Richmond, VA 23233'], 'questions_table': ['<table frame=\"void\" width=\"590\"> <tbody> <tr> <td align=\"left\" styleCode=\"Botrule Lrule Rrule Toprule\" valign=\"top\"> <content styleCode=\"bold\">TAMPER EVIDENT: DO NOT USE IF A BLISTER PACKAGE UNIT IS TORN, BROKEN OR SHOW ANY SIGN OF TAMPERING</content> </td> </tr> </tbody> </table>'], 'package_label_principal_display_panel': ['PACKAGE LABEL.PRINCIPAL DISPLAY PANEL 39803ffc-figure-01'], 'set_id': '5514d582-19b5-4f1e-b794-f790afb8211c', 'id': '9a63ba0a-0df9-744b-e053-2a95a90a9344', 'effective_time': '20191223', 'version': '2', 'openfda': {'brand_name': ['Ferrous Sulfate'], 'generic_name': ['FERROUS SULFATE'], 'manufacturer_name': ['Richmond Pharmaceuticals Inc.'], 'product_ndc': ['54738-963'], 'product_type': ['HUMAN OTC DRUG'], 'route': ['ORAL'], 'substance_name': ['FERROUS SULFATE'], 'rxcui': ['310325'], 'spl_id': ['9a63ba0a-0df9-744b-e053-2a95a90a9344'], 'spl_set_id': ['5514d582-19b5-4f1e-b794-f790afb8211c'], 'package_ndc': ['54738-963-13'], 'is_original_packager': [True], 'upc': ['0054738963137'], 'unii': ['39R4TAN1VT']}}]}\n",
      "                                     id    code effective_time last_updated  \\\n",
      "0  a53f82fa-2b99-4989-b4ca-fa931142443e  197591     2024-08-07   2024-11-01   \n",
      "1  9a63ba0a-0df9-744b-e053-2a95a90a9344  310325     2019-12-23   2024-11-01   \n",
      "\n",
      "        brand_name     generic_name              manufacturer_name  \\\n",
      "0         Diazepam         DIAZEPAM           Bryant Ranch Prepack   \n",
      "1  Ferrous Sulfate  FERROUS SULFATE  Richmond Pharmaceuticals Inc.   \n",
      "\n",
      "    product_ndc                                        package_ndc  \\\n",
      "0  [71335-2197]  [71335-2197-1, 71335-2197-2, 71335-2197-3, 713...   \n",
      "1   [54738-963]                                     [54738-963-13]   \n",
      "\n",
      "              product_type route   substance_name     rxcui          unii  \\\n",
      "0  HUMAN PRESCRIPTION DRUG  ORAL         DIAZEPAM  [197591]  [Q3JTX2Q7TU]   \n",
      "1           HUMAN OTC DRUG  ORAL  FERROUS SULFATE  [310325]  [39R4TAN1VT]   \n",
      "\n",
      "                                            elements  \\\n",
      "0  Diazepam Diazepam ANHYDROUS LACTOSE MAGNESIUM ...   \n",
      "1  Ferrous Sulfate Ferrous Sulfate CROSCARMELLOSE...   \n",
      "\n",
      "                               indications_and_usage  \\\n",
      "0  INDICATIONS Diazepam Tablets USP are indicated...   \n",
      "1                                     SUGGESTED USE:   \n",
      "\n",
      "                           dosage_and_administration  \\\n",
      "0  DOSAGE AND ADMINISTRATION Dosage should be ind...   \n",
      "1  DRUG INTERACTION PRECAUTION: Since oral iron p...   \n",
      "\n",
      "                                         description  \\\n",
      "0  DESCRIPTION Diazepam is a benzodiazepine deriv...   \n",
      "1                                               None   \n",
      "\n",
      "                                            warnings  \n",
      "0  WARNINGS Risks from Concomitant Use with Opioi...  \n",
      "1  WARNINGS: Do not exceed recommended dosage. Th...  \n",
      "                                     id    code effective_time last_updated  \\\n",
      "0  a53f82fa-2b99-4989-b4ca-fa931142443e  197591     2024-08-07   2024-11-01   \n",
      "1  9a63ba0a-0df9-744b-e053-2a95a90a9344  310325     2019-12-23   2024-11-01   \n",
      "\n",
      "        brand_name     generic_name              manufacturer_name  \\\n",
      "0         Diazepam         DIAZEPAM           Bryant Ranch Prepack   \n",
      "1  Ferrous Sulfate  FERROUS SULFATE  Richmond Pharmaceuticals Inc.   \n",
      "\n",
      "    product_ndc                                        package_ndc  \\\n",
      "0  [71335-2197]  [71335-2197-1, 71335-2197-2, 71335-2197-3, 713...   \n",
      "1   [54738-963]                                     [54738-963-13]   \n",
      "\n",
      "              product_type route   substance_name     rxcui          unii  \\\n",
      "0  HUMAN PRESCRIPTION DRUG  ORAL         DIAZEPAM  [197591]  [Q3JTX2Q7TU]   \n",
      "1           HUMAN OTC DRUG  ORAL  FERROUS SULFATE  [310325]  [39R4TAN1VT]   \n",
      "\n",
      "                                            elements  \\\n",
      "0  Diazepam Diazepam ANHYDROUS LACTOSE MAGNESIUM ...   \n",
      "1  Ferrous Sulfate Ferrous Sulfate CROSCARMELLOSE...   \n",
      "\n",
      "                               indications_and_usage  \\\n",
      "0  INDICATIONS Diazepam Tablets USP are indicated...   \n",
      "1                                     SUGGESTED USE:   \n",
      "\n",
      "                           dosage_and_administration  \\\n",
      "0  DOSAGE AND ADMINISTRATION Dosage should be ind...   \n",
      "1  DRUG INTERACTION PRECAUTION: Since oral iron p...   \n",
      "\n",
      "                                         description  \\\n",
      "0  DESCRIPTION Diazepam is a benzodiazepine deriv...   \n",
      "1                                               None   \n",
      "\n",
      "                                            warnings  \n",
      "0  WARNINGS Risks from Concomitant Use with Opioi...  \n",
      "1  WARNINGS: Do not exceed recommended dosage. Th...  \n"
     ]
    },
    {
     "data": {
      "text/html": [
       "<div>\n",
       "<style scoped>\n",
       "    .dataframe tbody tr th:only-of-type {\n",
       "        vertical-align: middle;\n",
       "    }\n",
       "\n",
       "    .dataframe tbody tr th {\n",
       "        vertical-align: top;\n",
       "    }\n",
       "\n",
       "    .dataframe thead th {\n",
       "        text-align: right;\n",
       "    }\n",
       "</style>\n",
       "<table border=\"1\" class=\"dataframe\">\n",
       "  <thead>\n",
       "    <tr style=\"text-align: right;\">\n",
       "      <th></th>\n",
       "      <th>id</th>\n",
       "      <th>code</th>\n",
       "      <th>effective_time</th>\n",
       "      <th>last_updated</th>\n",
       "      <th>brand_name</th>\n",
       "      <th>generic_name</th>\n",
       "      <th>manufacturer_name</th>\n",
       "      <th>product_ndc</th>\n",
       "      <th>package_ndc</th>\n",
       "      <th>product_type</th>\n",
       "      <th>route</th>\n",
       "      <th>substance_name</th>\n",
       "      <th>rxcui</th>\n",
       "      <th>unii</th>\n",
       "      <th>elements</th>\n",
       "      <th>indications_and_usage</th>\n",
       "      <th>dosage_and_administration</th>\n",
       "      <th>description</th>\n",
       "      <th>warnings</th>\n",
       "    </tr>\n",
       "  </thead>\n",
       "  <tbody>\n",
       "    <tr>\n",
       "      <th>0</th>\n",
       "      <td>a53f82fa-2b99-4989-b4ca-fa931142443e</td>\n",
       "      <td>197591</td>\n",
       "      <td>2024-08-07</td>\n",
       "      <td>2024-11-01</td>\n",
       "      <td>Diazepam</td>\n",
       "      <td>DIAZEPAM</td>\n",
       "      <td>Bryant Ranch Prepack</td>\n",
       "      <td>[71335-2197]</td>\n",
       "      <td>[71335-2197-1, 71335-2197-2, 71335-2197-3, 713...</td>\n",
       "      <td>HUMAN PRESCRIPTION DRUG</td>\n",
       "      <td>ORAL</td>\n",
       "      <td>DIAZEPAM</td>\n",
       "      <td>[197591]</td>\n",
       "      <td>[Q3JTX2Q7TU]</td>\n",
       "      <td>Diazepam Diazepam ANHYDROUS LACTOSE MAGNESIUM ...</td>\n",
       "      <td>INDICATIONS Diazepam Tablets USP are indicated...</td>\n",
       "      <td>DOSAGE AND ADMINISTRATION Dosage should be ind...</td>\n",
       "      <td>DESCRIPTION Diazepam is a benzodiazepine deriv...</td>\n",
       "      <td>WARNINGS Risks from Concomitant Use with Opioi...</td>\n",
       "    </tr>\n",
       "    <tr>\n",
       "      <th>1</th>\n",
       "      <td>9a63ba0a-0df9-744b-e053-2a95a90a9344</td>\n",
       "      <td>310325</td>\n",
       "      <td>2019-12-23</td>\n",
       "      <td>2024-11-01</td>\n",
       "      <td>Ferrous Sulfate</td>\n",
       "      <td>FERROUS SULFATE</td>\n",
       "      <td>Richmond Pharmaceuticals Inc.</td>\n",
       "      <td>[54738-963]</td>\n",
       "      <td>[54738-963-13]</td>\n",
       "      <td>HUMAN OTC DRUG</td>\n",
       "      <td>ORAL</td>\n",
       "      <td>FERROUS SULFATE</td>\n",
       "      <td>[310325]</td>\n",
       "      <td>[39R4TAN1VT]</td>\n",
       "      <td>Ferrous Sulfate Ferrous Sulfate CROSCARMELLOSE...</td>\n",
       "      <td>SUGGESTED USE:</td>\n",
       "      <td>DRUG INTERACTION PRECAUTION: Since oral iron p...</td>\n",
       "      <td>None</td>\n",
       "      <td>WARNINGS: Do not exceed recommended dosage. Th...</td>\n",
       "    </tr>\n",
       "  </tbody>\n",
       "</table>\n",
       "</div>"
      ],
      "text/plain": [
       "                                     id    code effective_time last_updated  \\\n",
       "0  a53f82fa-2b99-4989-b4ca-fa931142443e  197591     2024-08-07   2024-11-01   \n",
       "1  9a63ba0a-0df9-744b-e053-2a95a90a9344  310325     2019-12-23   2024-11-01   \n",
       "\n",
       "        brand_name     generic_name              manufacturer_name  \\\n",
       "0         Diazepam         DIAZEPAM           Bryant Ranch Prepack   \n",
       "1  Ferrous Sulfate  FERROUS SULFATE  Richmond Pharmaceuticals Inc.   \n",
       "\n",
       "    product_ndc                                        package_ndc  \\\n",
       "0  [71335-2197]  [71335-2197-1, 71335-2197-2, 71335-2197-3, 713...   \n",
       "1   [54738-963]                                     [54738-963-13]   \n",
       "\n",
       "              product_type route   substance_name     rxcui          unii  \\\n",
       "0  HUMAN PRESCRIPTION DRUG  ORAL         DIAZEPAM  [197591]  [Q3JTX2Q7TU]   \n",
       "1           HUMAN OTC DRUG  ORAL  FERROUS SULFATE  [310325]  [39R4TAN1VT]   \n",
       "\n",
       "                                            elements  \\\n",
       "0  Diazepam Diazepam ANHYDROUS LACTOSE MAGNESIUM ...   \n",
       "1  Ferrous Sulfate Ferrous Sulfate CROSCARMELLOSE...   \n",
       "\n",
       "                               indications_and_usage  \\\n",
       "0  INDICATIONS Diazepam Tablets USP are indicated...   \n",
       "1                                     SUGGESTED USE:   \n",
       "\n",
       "                           dosage_and_administration  \\\n",
       "0  DOSAGE AND ADMINISTRATION Dosage should be ind...   \n",
       "1  DRUG INTERACTION PRECAUTION: Since oral iron p...   \n",
       "\n",
       "                                         description  \\\n",
       "0  DESCRIPTION Diazepam is a benzodiazepine deriv...   \n",
       "1                                               None   \n",
       "\n",
       "                                            warnings  \n",
       "0  WARNINGS Risks from Concomitant Use with Opioi...  \n",
       "1  WARNINGS: Do not exceed recommended dosage. Th...  "
      ]
     },
     "execution_count": 63,
     "metadata": {},
     "output_type": "execute_result"
    }
   ],
   "source": [
    "\n",
    "active_medications_df = get_active_medications(medication_requests_df)\n",
    "# print(active_medications_df)\n",
    "active_medications_df"
   ]
  },
  {
   "cell_type": "code",
   "execution_count": null,
   "metadata": {},
   "outputs": [],
   "source": [
    "# active_medications_df['rxcui'].apply(lambda x: x[0] if x else None)\n",
    "# active_medications_df['package_ndc'].apply(lambda x: x[0] if x else None)\n"
   ]
  },
  {
   "cell_type": "code",
   "execution_count": 66,
   "metadata": {},
   "outputs": [],
   "source": [
    "active_medications_df.to_csv('active_medications.csv', index=False)"
   ]
  },
  {
   "cell_type": "markdown",
   "metadata": {},
   "source": [
    "---"
   ]
  },
  {
   "cell_type": "markdown",
   "metadata": {},
   "source": [
    "# export to csv/db-ready format"
   ]
  },
  {
   "cell_type": "code",
   "execution_count": 69,
   "metadata": {},
   "outputs": [],
   "source": [
    "\n",
    "def export_to_csv(df, file_path):\n",
    "    df.to_csv(file_path, index=False)\n"
   ]
  },
  {
   "cell_type": "code",
   "execution_count": 100,
   "metadata": {},
   "outputs": [
    {
     "name": "stdout",
     "output_type": "stream",
     "text": [
      "directory:  c:\\locr\\mendel\\data\\\n"
     ]
    }
   ],
   "source": [
    "patients, medications, encounters = process_json_files(DATA_DIRECTORY)\n",
    "\n",
    "patients_df = pd.DataFrame(patients)\n",
    "medication_requests_df = pd.DataFrame(medications)\n",
    "encounters_df = pd.DataFrame(encounters)\n"
   ]
  },
  {
   "cell_type": "code",
   "execution_count": 103,
   "metadata": {},
   "outputs": [
    {
     "data": {
      "text/plain": [
       "'active_medications_df'"
      ]
     },
     "execution_count": 103,
     "metadata": {},
     "output_type": "execute_result"
    }
   ],
   "source": [
    "f'{active_medications_df=}'.split('=')[0]"
   ]
  },
  {
   "cell_type": "code",
   "execution_count": 108,
   "metadata": {},
   "outputs": [
    {
     "name": "stdout",
     "output_type": "stream",
     "text": [
      "active_medications_df\n",
      "file_path:  c:\\locr\\mendel\\out\\active_medications_df.csv\n",
      "medication_requests_df\n",
      "file_path:  c:\\locr\\mendel\\out\\medication_requests_df.csv\n",
      "patients_df\n",
      "file_path:  c:\\locr\\mendel\\out\\patients_df.csv\n",
      "encounters_df\n",
      "file_path:  c:\\locr\\mendel\\out\\encounters_df.csv\n"
     ]
    }
   ],
   "source": [
    "\n",
    "df_names = ['active_medications_df', 'medication_requests_df', 'patients_df', 'encounters_df']\n",
    "df_list = [active_medications_df, medication_requests_df, patients_df, encounters_df]\n",
    "\n",
    "for df_name, df in zip(df_names, df_list):\n",
    "    print(df_name)\n",
    "    file_path = OUT_DIRECTORY+df_name+'.csv'\n",
    "    print('file_path: ', file_path)\n",
    "    export_to_csv(df, file_path)\n"
   ]
  },
  {
   "cell_type": "markdown",
   "metadata": {},
   "source": [
    "---\n"
   ]
  }
 ],
 "metadata": {
  "kernelspec": {
   "display_name": "data",
   "language": "python",
   "name": "python3"
  },
  "language_info": {
   "codemirror_mode": {
    "name": "ipython",
    "version": 3
   },
   "file_extension": ".py",
   "mimetype": "text/x-python",
   "name": "python",
   "nbconvert_exporter": "python",
   "pygments_lexer": "ipython3",
   "version": "3.10.13"
  }
 },
 "nbformat": 4,
 "nbformat_minor": 2
}
